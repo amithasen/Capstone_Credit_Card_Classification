{
 "cells": [
  {
   "cell_type": "code",
   "execution_count": 2,
   "metadata": {},
   "outputs": [],
   "source": [
    "# import os\n",
    "# import sys\n",
    "import numpy as np\n",
    "import pandas as pd;\n",
    "import seaborn as sns\n",
    "import matplotlib.pyplot as plt\n",
    "from sklearn.linear_model import LogisticRegression\n",
    "from sklearn.metrics import classification_report, confusion_matrix\n",
    "from sklearn.neighbors import KNeighborsClassifier\n",
    "from sklearn.ensemble import RandomForestClassifier\n",
    "import keras\n",
    "from keras.layers import *\n",
    "from keras.models import Sequential\n",
    "from ann_visualizer.visualize import ann_viz;"
   ]
  },
  {
   "cell_type": "code",
   "execution_count": 3,
   "metadata": {},
   "outputs": [],
   "source": [
    "data = pd.read_csv(\"../data/credit_approval.csv\")"
   ]
  },
  {
   "cell_type": "code",
   "execution_count": 4,
   "metadata": {},
   "outputs": [
    {
     "name": "stdout",
     "output_type": "stream",
     "text": [
      "<class 'pandas.core.frame.DataFrame'>\n",
      "RangeIndex: 690 entries, 0 to 689\n",
      "Data columns (total 16 columns):\n",
      " #   Column  Non-Null Count  Dtype  \n",
      "---  ------  --------------  -----  \n",
      " 0   A1      678 non-null    object \n",
      " 1   A2      678 non-null    float64\n",
      " 2   A3      690 non-null    float64\n",
      " 3   A4      684 non-null    object \n",
      " 4   A5      684 non-null    object \n",
      " 5   A6      681 non-null    object \n",
      " 6   A7      681 non-null    object \n",
      " 7   A8      690 non-null    float64\n",
      " 8   A9      690 non-null    object \n",
      " 9   A10     690 non-null    object \n",
      " 10  A11     690 non-null    int64  \n",
      " 11  A12     690 non-null    object \n",
      " 12  A13     690 non-null    object \n",
      " 13  A14     677 non-null    float64\n",
      " 14  A15     690 non-null    int64  \n",
      " 15  class   690 non-null    object \n",
      "dtypes: float64(4), int64(2), object(10)\n",
      "memory usage: 86.4+ KB\n"
     ]
    }
   ],
   "source": [
    "data.info()"
   ]
  },
  {
   "cell_type": "code",
   "execution_count": 5,
   "metadata": {},
   "outputs": [],
   "source": [
    "# Imputing missing values for numerical columns with mean value\n",
    "data.fillna(data.mean(), inplace=True)"
   ]
  },
  {
   "cell_type": "code",
   "execution_count": 6,
   "metadata": {},
   "outputs": [
    {
     "name": "stdout",
     "output_type": "stream",
     "text": [
      "<class 'pandas.core.frame.DataFrame'>\n",
      "RangeIndex: 690 entries, 0 to 689\n",
      "Data columns (total 16 columns):\n",
      " #   Column  Non-Null Count  Dtype  \n",
      "---  ------  --------------  -----  \n",
      " 0   A1      678 non-null    object \n",
      " 1   A2      690 non-null    float64\n",
      " 2   A3      690 non-null    float64\n",
      " 3   A4      684 non-null    object \n",
      " 4   A5      684 non-null    object \n",
      " 5   A6      681 non-null    object \n",
      " 6   A7      681 non-null    object \n",
      " 7   A8      690 non-null    float64\n",
      " 8   A9      690 non-null    object \n",
      " 9   A10     690 non-null    object \n",
      " 10  A11     690 non-null    int64  \n",
      " 11  A12     690 non-null    object \n",
      " 12  A13     690 non-null    object \n",
      " 13  A14     690 non-null    float64\n",
      " 14  A15     690 non-null    int64  \n",
      " 15  class   690 non-null    object \n",
      "dtypes: float64(4), int64(2), object(10)\n",
      "memory usage: 86.4+ KB\n"
     ]
    }
   ],
   "source": [
    "data.info()"
   ]
  },
  {
   "cell_type": "code",
   "execution_count": 33,
   "metadata": {},
   "outputs": [
    {
     "name": "stdout",
     "output_type": "stream",
     "text": [
      "Column name:  A1\n",
      "      A1     A2      A3 A4 A5   A6   A7     A8 A9 A10  A11 A12 A13     A14  \\\n",
      "248  NaN  24.50  12.750  u  g    c   bb  4.750  t   t    2   f   g    73.0   \n",
      "327  NaN  40.83   3.500  u  g    i   bb  0.500  f   f    0   f   s  1160.0   \n",
      "346  NaN  32.25   1.500  u  g    c    v  0.250  f   f    0   t   g   372.0   \n",
      "374  NaN  28.17   0.585  u  g   aa    v  0.040  f   f    0   f   g   260.0   \n",
      "453  NaN  29.75   0.665  u  g    w    v  0.250  f   f    0   t   g   300.0   \n",
      "479  NaN  26.50   2.710  y  p  NaN  NaN  0.085  f   f    0   f   s    80.0   \n",
      "489  NaN  45.33   1.000  u  g    q    v  0.125  f   f    0   t   g   263.0   \n",
      "520  NaN  20.42   7.500  u  g    k    v  1.500  t   t    1   f   g   160.0   \n",
      "598  NaN  20.08   0.125  u  g    q    v  1.000  f   t    1   f   g   240.0   \n",
      "601  NaN  42.25   1.750  y  p  NaN  NaN  0.000  f   f    0   t   g   150.0   \n",
      "641  NaN  33.17   2.250  y  p   cc    v  3.500  f   f    0   t   g   200.0   \n",
      "673  NaN  29.50   2.000  y  p    e    h  2.000  f   f    0   f   g   256.0   \n",
      "\n",
      "      A15 class  \n",
      "248   444     +  \n",
      "327     0     -  \n",
      "346   122     -  \n",
      "374  1004     -  \n",
      "453     0     -  \n",
      "479     0     -  \n",
      "489     0     -  \n",
      "520   234     +  \n",
      "598   768     +  \n",
      "601     1     -  \n",
      "641   141     -  \n",
      "673    17     -  \n",
      "Null/Nan in this column:  12\n",
      "\n",
      "Column name:  A4\n",
      "    A1     A2   A3   A4   A5   A6   A7   A8 A9 A10  A11 A12 A13         A14  \\\n",
      "206  a  71.58  0.0  NaN  NaN  NaN  NaN  0.0  f   f    0   f   p  184.014771   \n",
      "270  b  37.58  0.0  NaN  NaN  NaN  NaN  0.0  f   f    0   f   p  184.014771   \n",
      "330  b  20.42  0.0  NaN  NaN  NaN  NaN  0.0  f   f    0   f   p  184.014771   \n",
      "456  b  34.58  0.0  NaN  NaN  NaN  NaN  0.0  f   f    0   f   p  184.014771   \n",
      "592  b  23.17  0.0  NaN  NaN  NaN  NaN  0.0  f   f    0   f   p  184.014771   \n",
      "622  a  25.58  0.0  NaN  NaN  NaN  NaN  0.0  f   f    0   f   p  184.014771   \n",
      "\n",
      "     A15 class  \n",
      "206    0     +  \n",
      "270    0     +  \n",
      "330    0     -  \n",
      "456    0     -  \n",
      "592    0     +  \n",
      "622    0     +  \n",
      "Null/Nan in this column:  6\n",
      "\n",
      "Column name:  A5\n",
      "    A1     A2   A3   A4   A5   A6   A7   A8 A9 A10  A11 A12 A13         A14  \\\n",
      "206  a  71.58  0.0  NaN  NaN  NaN  NaN  0.0  f   f    0   f   p  184.014771   \n",
      "270  b  37.58  0.0  NaN  NaN  NaN  NaN  0.0  f   f    0   f   p  184.014771   \n",
      "330  b  20.42  0.0  NaN  NaN  NaN  NaN  0.0  f   f    0   f   p  184.014771   \n",
      "456  b  34.58  0.0  NaN  NaN  NaN  NaN  0.0  f   f    0   f   p  184.014771   \n",
      "592  b  23.17  0.0  NaN  NaN  NaN  NaN  0.0  f   f    0   f   p  184.014771   \n",
      "622  a  25.58  0.0  NaN  NaN  NaN  NaN  0.0  f   f    0   f   p  184.014771   \n",
      "\n",
      "     A15 class  \n",
      "206    0     +  \n",
      "270    0     +  \n",
      "330    0     -  \n",
      "456    0     -  \n",
      "592    0     +  \n",
      "622    0     +  \n",
      "Null/Nan in this column:  6\n",
      "\n",
      "Column name:  A6\n",
      "      A1     A2    A3   A4   A5   A6   A7     A8 A9 A10  A11 A12 A13  \\\n",
      "206    a  71.58  0.00  NaN  NaN  NaN  NaN  0.000  f   f    0   f   p   \n",
      "270    b  37.58  0.00  NaN  NaN  NaN  NaN  0.000  f   f    0   f   p   \n",
      "330    b  20.42  0.00  NaN  NaN  NaN  NaN  0.000  f   f    0   f   p   \n",
      "456    b  34.58  0.00  NaN  NaN  NaN  NaN  0.000  f   f    0   f   p   \n",
      "479  NaN  26.50  2.71    y    p  NaN  NaN  0.085  f   f    0   f   s   \n",
      "539    b  80.25  5.50    u    g  NaN  NaN  0.540  t   f    0   f   g   \n",
      "592    b  23.17  0.00  NaN  NaN  NaN  NaN  0.000  f   f    0   f   p   \n",
      "601  NaN  42.25  1.75    y    p  NaN  NaN  0.000  f   f    0   t   g   \n",
      "622    a  25.58  0.00  NaN  NaN  NaN  NaN  0.000  f   f    0   f   p   \n",
      "\n",
      "            A14  A15 class  \n",
      "206  184.014771    0     +  \n",
      "270  184.014771    0     +  \n",
      "330  184.014771    0     -  \n",
      "456  184.014771    0     -  \n",
      "479   80.000000    0     -  \n",
      "539    0.000000  340     -  \n",
      "592  184.014771    0     +  \n",
      "601  150.000000    1     -  \n",
      "622  184.014771    0     +  \n",
      "Null/Nan in this column:  9\n",
      "\n",
      "Column name:  A7\n",
      "      A1     A2    A3   A4   A5   A6   A7     A8 A9 A10  A11 A12 A13  \\\n",
      "206    a  71.58  0.00  NaN  NaN  NaN  NaN  0.000  f   f    0   f   p   \n",
      "270    b  37.58  0.00  NaN  NaN  NaN  NaN  0.000  f   f    0   f   p   \n",
      "330    b  20.42  0.00  NaN  NaN  NaN  NaN  0.000  f   f    0   f   p   \n",
      "456    b  34.58  0.00  NaN  NaN  NaN  NaN  0.000  f   f    0   f   p   \n",
      "479  NaN  26.50  2.71    y    p  NaN  NaN  0.085  f   f    0   f   s   \n",
      "539    b  80.25  5.50    u    g  NaN  NaN  0.540  t   f    0   f   g   \n",
      "592    b  23.17  0.00  NaN  NaN  NaN  NaN  0.000  f   f    0   f   p   \n",
      "601  NaN  42.25  1.75    y    p  NaN  NaN  0.000  f   f    0   t   g   \n",
      "622    a  25.58  0.00  NaN  NaN  NaN  NaN  0.000  f   f    0   f   p   \n",
      "\n",
      "            A14  A15 class  \n",
      "206  184.014771    0     +  \n",
      "270  184.014771    0     +  \n",
      "330  184.014771    0     -  \n",
      "456  184.014771    0     -  \n",
      "479   80.000000    0     -  \n",
      "539    0.000000  340     -  \n",
      "592  184.014771    0     +  \n",
      "601  150.000000    1     -  \n",
      "622  184.014771    0     +  \n",
      "Null/Nan in this column:  9\n",
      "\n"
     ]
    }
   ],
   "source": [
    "for col in data.columns:\n",
    "    if data[col].isnull().sum() != 0:        \n",
    "        print(\"Column name: \",col)\n",
    "        print(data[data[col].isnull()])\n",
    "        print(\"Null/Nan in this column: \",data[col].isnull().sum())\n",
    "        print()"
   ]
  },
  {
   "cell_type": "code",
   "execution_count": null,
   "metadata": {},
   "outputs": [],
   "source": []
  }
 ],
 "metadata": {
  "kernelspec": {
   "display_name": "Python [conda env:learn-env] *",
   "language": "python",
   "name": "conda-env-learn-env-py"
  },
  "language_info": {
   "codemirror_mode": {
    "name": "ipython",
    "version": 3
   },
   "file_extension": ".py",
   "mimetype": "text/x-python",
   "name": "python",
   "nbconvert_exporter": "python",
   "pygments_lexer": "ipython3",
   "version": "3.6.9"
  }
 },
 "nbformat": 4,
 "nbformat_minor": 4
}
