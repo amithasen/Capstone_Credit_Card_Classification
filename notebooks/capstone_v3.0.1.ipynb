{
 "cells": [
  {
   "cell_type": "markdown",
   "metadata": {},
   "source": [
    "# This notebook was a test of using SMOTE which didn't help anything"
   ]
  },
  {
   "cell_type": "code",
   "execution_count": 1,
   "metadata": {},
   "outputs": [
    {
     "name": "stdout",
     "output_type": "stream",
     "text": [
      "Requirement already up-to-date: seaborn in /Users/calvintirrell/opt/anaconda3/envs/learn-env/lib/python3.6/site-packages (0.10.1)\n",
      "Requirement already satisfied, skipping upgrade: scipy>=1.0.1 in /Users/calvintirrell/opt/anaconda3/envs/learn-env/lib/python3.6/site-packages (from seaborn) (1.4.1)\n",
      "Requirement already satisfied, skipping upgrade: pandas>=0.22.0 in /Users/calvintirrell/opt/anaconda3/envs/learn-env/lib/python3.6/site-packages (from seaborn) (1.0.3)\n",
      "Requirement already satisfied, skipping upgrade: matplotlib>=2.1.2 in /Users/calvintirrell/opt/anaconda3/envs/learn-env/lib/python3.6/site-packages (from seaborn) (3.2.1)\n",
      "Requirement already satisfied, skipping upgrade: numpy>=1.13.3 in /Users/calvintirrell/opt/anaconda3/envs/learn-env/lib/python3.6/site-packages (from seaborn) (1.18.3)\n",
      "Requirement already satisfied, skipping upgrade: pytz>=2017.2 in /Users/calvintirrell/opt/anaconda3/envs/learn-env/lib/python3.6/site-packages (from pandas>=0.22.0->seaborn) (2019.2)\n",
      "Requirement already satisfied, skipping upgrade: python-dateutil>=2.6.1 in /Users/calvintirrell/opt/anaconda3/envs/learn-env/lib/python3.6/site-packages (from pandas>=0.22.0->seaborn) (2.8.0)\n",
      "Requirement already satisfied, skipping upgrade: pyparsing!=2.0.4,!=2.1.2,!=2.1.6,>=2.0.1 in /Users/calvintirrell/opt/anaconda3/envs/learn-env/lib/python3.6/site-packages (from matplotlib>=2.1.2->seaborn) (2.4.2)\n",
      "Requirement already satisfied, skipping upgrade: cycler>=0.10 in /Users/calvintirrell/opt/anaconda3/envs/learn-env/lib/python3.6/site-packages (from matplotlib>=2.1.2->seaborn) (0.10.0)\n",
      "Requirement already satisfied, skipping upgrade: kiwisolver>=1.0.1 in /Users/calvintirrell/opt/anaconda3/envs/learn-env/lib/python3.6/site-packages (from matplotlib>=2.1.2->seaborn) (1.1.0)\n",
      "Requirement already satisfied, skipping upgrade: six>=1.5 in /Users/calvintirrell/opt/anaconda3/envs/learn-env/lib/python3.6/site-packages (from python-dateutil>=2.6.1->pandas>=0.22.0->seaborn) (1.12.0)\n",
      "Requirement already satisfied, skipping upgrade: setuptools in /Users/calvintirrell/opt/anaconda3/envs/learn-env/lib/python3.6/site-packages (from kiwisolver>=1.0.1->matplotlib>=2.1.2->seaborn) (41.2.0)\n",
      "Requirement already up-to-date: matplotlib in /Users/calvintirrell/opt/anaconda3/envs/learn-env/lib/python3.6/site-packages (3.2.1)\n",
      "Requirement already satisfied, skipping upgrade: kiwisolver>=1.0.1 in /Users/calvintirrell/opt/anaconda3/envs/learn-env/lib/python3.6/site-packages (from matplotlib) (1.1.0)\n",
      "Requirement already satisfied, skipping upgrade: cycler>=0.10 in /Users/calvintirrell/opt/anaconda3/envs/learn-env/lib/python3.6/site-packages (from matplotlib) (0.10.0)\n",
      "Requirement already satisfied, skipping upgrade: numpy>=1.11 in /Users/calvintirrell/opt/anaconda3/envs/learn-env/lib/python3.6/site-packages (from matplotlib) (1.18.3)\n",
      "Requirement already satisfied, skipping upgrade: pyparsing!=2.0.4,!=2.1.2,!=2.1.6,>=2.0.1 in /Users/calvintirrell/opt/anaconda3/envs/learn-env/lib/python3.6/site-packages (from matplotlib) (2.4.2)\n",
      "Requirement already satisfied, skipping upgrade: python-dateutil>=2.1 in /Users/calvintirrell/opt/anaconda3/envs/learn-env/lib/python3.6/site-packages (from matplotlib) (2.8.0)\n",
      "Requirement already satisfied, skipping upgrade: setuptools in /Users/calvintirrell/opt/anaconda3/envs/learn-env/lib/python3.6/site-packages (from kiwisolver>=1.0.1->matplotlib) (41.2.0)\n",
      "Requirement already satisfied, skipping upgrade: six in /Users/calvintirrell/opt/anaconda3/envs/learn-env/lib/python3.6/site-packages (from cycler>=0.10->matplotlib) (1.12.0)\n",
      "Requirement already up-to-date: pandas in /Users/calvintirrell/opt/anaconda3/envs/learn-env/lib/python3.6/site-packages (1.0.3)\n",
      "Requirement already satisfied, skipping upgrade: pytz>=2017.2 in /Users/calvintirrell/opt/anaconda3/envs/learn-env/lib/python3.6/site-packages (from pandas) (2019.2)\n",
      "Requirement already satisfied, skipping upgrade: numpy>=1.13.3 in /Users/calvintirrell/opt/anaconda3/envs/learn-env/lib/python3.6/site-packages (from pandas) (1.18.3)\n",
      "Requirement already satisfied, skipping upgrade: python-dateutil>=2.6.1 in /Users/calvintirrell/opt/anaconda3/envs/learn-env/lib/python3.6/site-packages (from pandas) (2.8.0)\n",
      "Requirement already satisfied, skipping upgrade: six>=1.5 in /Users/calvintirrell/opt/anaconda3/envs/learn-env/lib/python3.6/site-packages (from python-dateutil>=2.6.1->pandas) (1.12.0)\n",
      "Requirement already up-to-date: numpy in /Users/calvintirrell/opt/anaconda3/envs/learn-env/lib/python3.6/site-packages (1.18.3)\n",
      "Requirement already up-to-date: sklearn in /Users/calvintirrell/opt/anaconda3/envs/learn-env/lib/python3.6/site-packages (0.0)\n",
      "Requirement already satisfied, skipping upgrade: scikit-learn in /Users/calvintirrell/opt/anaconda3/envs/learn-env/lib/python3.6/site-packages (from sklearn) (0.21.2)\n",
      "Requirement already satisfied, skipping upgrade: joblib>=0.11 in /Users/calvintirrell/opt/anaconda3/envs/learn-env/lib/python3.6/site-packages (from scikit-learn->sklearn) (0.13.2)\n",
      "Requirement already satisfied, skipping upgrade: numpy>=1.11.0 in /Users/calvintirrell/opt/anaconda3/envs/learn-env/lib/python3.6/site-packages (from scikit-learn->sklearn) (1.18.3)\n",
      "Requirement already satisfied, skipping upgrade: scipy>=0.17.0 in /Users/calvintirrell/opt/anaconda3/envs/learn-env/lib/python3.6/site-packages (from scikit-learn->sklearn) (1.4.1)\n",
      "Requirement already up-to-date: keras in /Users/calvintirrell/opt/anaconda3/envs/learn-env/lib/python3.6/site-packages (2.3.1)\n",
      "Requirement already satisfied, skipping upgrade: scipy>=0.14 in /Users/calvintirrell/opt/anaconda3/envs/learn-env/lib/python3.6/site-packages (from keras) (1.4.1)\n",
      "Requirement already satisfied, skipping upgrade: numpy>=1.9.1 in /Users/calvintirrell/opt/anaconda3/envs/learn-env/lib/python3.6/site-packages (from keras) (1.18.3)\n",
      "Requirement already satisfied, skipping upgrade: h5py in /Users/calvintirrell/opt/anaconda3/envs/learn-env/lib/python3.6/site-packages (from keras) (2.9.0)\n",
      "Requirement already satisfied, skipping upgrade: keras-applications>=1.0.6 in /Users/calvintirrell/opt/anaconda3/envs/learn-env/lib/python3.6/site-packages (from keras) (1.0.8)\n",
      "Requirement already satisfied, skipping upgrade: keras-preprocessing>=1.0.5 in /Users/calvintirrell/opt/anaconda3/envs/learn-env/lib/python3.6/site-packages (from keras) (1.1.0)\n",
      "Requirement already satisfied, skipping upgrade: six>=1.9.0 in /Users/calvintirrell/opt/anaconda3/envs/learn-env/lib/python3.6/site-packages (from keras) (1.12.0)\n",
      "Requirement already satisfied, skipping upgrade: pyyaml in /Users/calvintirrell/opt/anaconda3/envs/learn-env/lib/python3.6/site-packages (from keras) (5.2)\n"
     ]
    }
   ],
   "source": [
    "!pip install seaborn --upgrade\n",
    "!pip install matplotlib --upgrade\n",
    "!pip install pandas --upgrade\n",
    "!pip install numpy --upgrade\n",
    "!pip install sklearn --upgrade\n",
    "!pip install keras --upgrade"
   ]
  },
  {
   "cell_type": "markdown",
   "metadata": {},
   "source": [
    "# Imports"
   ]
  },
  {
   "cell_type": "code",
   "execution_count": 2,
   "metadata": {},
   "outputs": [
    {
     "name": "stderr",
     "output_type": "stream",
     "text": [
      "/Users/calvintirrell/opt/anaconda3/envs/learn-env/lib/python3.6/site-packages/statsmodels/tools/_testing.py:19: FutureWarning: pandas.util.testing is deprecated. Use the functions in the public API at pandas.testing instead.\n",
      "  import pandas.util.testing as tm\n",
      "/Users/calvintirrell/opt/anaconda3/envs/learn-env/lib/python3.6/site-packages/sklearn/externals/six.py:31: DeprecationWarning: The module is deprecated in version 0.21 and will be removed in version 0.23 since we've dropped support for Python 2.7. Please rely on the official version of six (https://pypi.org/project/six/).\n",
      "  \"(https://pypi.org/project/six/).\", DeprecationWarning)\n"
     ]
    }
   ],
   "source": [
    "import numpy as np\n",
    "import pandas as pd;\n",
    "import seaborn as sns\n",
    "import matplotlib.pyplot as plt\n",
    "from sklearn.linear_model import LogisticRegression\n",
    "from sklearn.ensemble import RandomForestClassifier, AdaBoostClassifier, GradientBoostingClassifier\n",
    "from xgboost import XGBClassifier\n",
    "from sklearn.preprocessing import LabelEncoder, StandardScaler\n",
    "from sklearn.model_selection import train_test_split, cross_val_score, GridSearchCV\n",
    "from sklearn.metrics import classification_report, confusion_matrix, accuracy_score\n",
    "from sklearn.feature_selection import SelectKBest, chi2\n",
    "from imblearn.over_sampling import SMOTE\n",
    "%matplotlib inline\n",
    "import warnings\n",
    "warnings.filterwarnings(\"ignore\")"
   ]
  },
  {
   "cell_type": "markdown",
   "metadata": {},
   "source": [
    "# Load data"
   ]
  },
  {
   "cell_type": "code",
   "execution_count": 3,
   "metadata": {},
   "outputs": [],
   "source": [
    "data = pd.read_csv(\"../data/credit_approval.csv\")"
   ]
  },
  {
   "cell_type": "markdown",
   "metadata": {},
   "source": [
    "# Inspect data"
   ]
  },
  {
   "cell_type": "code",
   "execution_count": 4,
   "metadata": {},
   "outputs": [
    {
     "data": {
      "text/html": [
       "<div>\n",
       "<style scoped>\n",
       "    .dataframe tbody tr th:only-of-type {\n",
       "        vertical-align: middle;\n",
       "    }\n",
       "\n",
       "    .dataframe tbody tr th {\n",
       "        vertical-align: top;\n",
       "    }\n",
       "\n",
       "    .dataframe thead th {\n",
       "        text-align: right;\n",
       "    }\n",
       "</style>\n",
       "<table border=\"1\" class=\"dataframe\">\n",
       "  <thead>\n",
       "    <tr style=\"text-align: right;\">\n",
       "      <th></th>\n",
       "      <th>A1</th>\n",
       "      <th>A2</th>\n",
       "      <th>A3</th>\n",
       "      <th>A4</th>\n",
       "      <th>A5</th>\n",
       "      <th>A6</th>\n",
       "      <th>A7</th>\n",
       "      <th>A8</th>\n",
       "      <th>A9</th>\n",
       "      <th>A10</th>\n",
       "      <th>A11</th>\n",
       "      <th>A12</th>\n",
       "      <th>A13</th>\n",
       "      <th>A14</th>\n",
       "      <th>A15</th>\n",
       "      <th>class</th>\n",
       "    </tr>\n",
       "  </thead>\n",
       "  <tbody>\n",
       "    <tr>\n",
       "      <th>0</th>\n",
       "      <td>b</td>\n",
       "      <td>30.83</td>\n",
       "      <td>0.000</td>\n",
       "      <td>u</td>\n",
       "      <td>g</td>\n",
       "      <td>w</td>\n",
       "      <td>v</td>\n",
       "      <td>1.25</td>\n",
       "      <td>t</td>\n",
       "      <td>t</td>\n",
       "      <td>1</td>\n",
       "      <td>f</td>\n",
       "      <td>g</td>\n",
       "      <td>202.0</td>\n",
       "      <td>0</td>\n",
       "      <td>+</td>\n",
       "    </tr>\n",
       "    <tr>\n",
       "      <th>1</th>\n",
       "      <td>a</td>\n",
       "      <td>58.67</td>\n",
       "      <td>4.460</td>\n",
       "      <td>u</td>\n",
       "      <td>g</td>\n",
       "      <td>q</td>\n",
       "      <td>h</td>\n",
       "      <td>3.04</td>\n",
       "      <td>t</td>\n",
       "      <td>t</td>\n",
       "      <td>6</td>\n",
       "      <td>f</td>\n",
       "      <td>g</td>\n",
       "      <td>43.0</td>\n",
       "      <td>560</td>\n",
       "      <td>+</td>\n",
       "    </tr>\n",
       "    <tr>\n",
       "      <th>2</th>\n",
       "      <td>a</td>\n",
       "      <td>24.50</td>\n",
       "      <td>0.500</td>\n",
       "      <td>u</td>\n",
       "      <td>g</td>\n",
       "      <td>q</td>\n",
       "      <td>h</td>\n",
       "      <td>1.50</td>\n",
       "      <td>t</td>\n",
       "      <td>f</td>\n",
       "      <td>0</td>\n",
       "      <td>f</td>\n",
       "      <td>g</td>\n",
       "      <td>280.0</td>\n",
       "      <td>824</td>\n",
       "      <td>+</td>\n",
       "    </tr>\n",
       "    <tr>\n",
       "      <th>3</th>\n",
       "      <td>b</td>\n",
       "      <td>27.83</td>\n",
       "      <td>1.540</td>\n",
       "      <td>u</td>\n",
       "      <td>g</td>\n",
       "      <td>w</td>\n",
       "      <td>v</td>\n",
       "      <td>3.75</td>\n",
       "      <td>t</td>\n",
       "      <td>t</td>\n",
       "      <td>5</td>\n",
       "      <td>t</td>\n",
       "      <td>g</td>\n",
       "      <td>100.0</td>\n",
       "      <td>3</td>\n",
       "      <td>+</td>\n",
       "    </tr>\n",
       "    <tr>\n",
       "      <th>4</th>\n",
       "      <td>b</td>\n",
       "      <td>20.17</td>\n",
       "      <td>5.625</td>\n",
       "      <td>u</td>\n",
       "      <td>g</td>\n",
       "      <td>w</td>\n",
       "      <td>v</td>\n",
       "      <td>1.71</td>\n",
       "      <td>t</td>\n",
       "      <td>f</td>\n",
       "      <td>0</td>\n",
       "      <td>f</td>\n",
       "      <td>s</td>\n",
       "      <td>120.0</td>\n",
       "      <td>0</td>\n",
       "      <td>+</td>\n",
       "    </tr>\n",
       "  </tbody>\n",
       "</table>\n",
       "</div>"
      ],
      "text/plain": [
       "  A1     A2     A3 A4 A5 A6 A7    A8 A9 A10  A11 A12 A13    A14  A15 class\n",
       "0  b  30.83  0.000  u  g  w  v  1.25  t   t    1   f   g  202.0    0     +\n",
       "1  a  58.67  4.460  u  g  q  h  3.04  t   t    6   f   g   43.0  560     +\n",
       "2  a  24.50  0.500  u  g  q  h  1.50  t   f    0   f   g  280.0  824     +\n",
       "3  b  27.83  1.540  u  g  w  v  3.75  t   t    5   t   g  100.0    3     +\n",
       "4  b  20.17  5.625  u  g  w  v  1.71  t   f    0   f   s  120.0    0     +"
      ]
     },
     "execution_count": 4,
     "metadata": {},
     "output_type": "execute_result"
    }
   ],
   "source": [
    "data.head()"
   ]
  },
  {
   "cell_type": "code",
   "execution_count": 5,
   "metadata": {},
   "outputs": [
    {
     "data": {
      "text/plain": [
       "(690, 16)"
      ]
     },
     "execution_count": 5,
     "metadata": {},
     "output_type": "execute_result"
    }
   ],
   "source": [
    "data.shape"
   ]
  },
  {
   "cell_type": "code",
   "execution_count": 6,
   "metadata": {},
   "outputs": [
    {
     "name": "stdout",
     "output_type": "stream",
     "text": [
      "<class 'pandas.core.frame.DataFrame'>\n",
      "RangeIndex: 690 entries, 0 to 689\n",
      "Data columns (total 16 columns):\n",
      " #   Column  Non-Null Count  Dtype  \n",
      "---  ------  --------------  -----  \n",
      " 0   A1      678 non-null    object \n",
      " 1   A2      678 non-null    float64\n",
      " 2   A3      690 non-null    float64\n",
      " 3   A4      684 non-null    object \n",
      " 4   A5      684 non-null    object \n",
      " 5   A6      681 non-null    object \n",
      " 6   A7      681 non-null    object \n",
      " 7   A8      690 non-null    float64\n",
      " 8   A9      690 non-null    object \n",
      " 9   A10     690 non-null    object \n",
      " 10  A11     690 non-null    int64  \n",
      " 11  A12     690 non-null    object \n",
      " 12  A13     690 non-null    object \n",
      " 13  A14     677 non-null    float64\n",
      " 14  A15     690 non-null    int64  \n",
      " 15  class   690 non-null    object \n",
      "dtypes: float64(4), int64(2), object(10)\n",
      "memory usage: 86.4+ KB\n"
     ]
    }
   ],
   "source": [
    "data.info()"
   ]
  },
  {
   "cell_type": "code",
   "execution_count": 7,
   "metadata": {},
   "outputs": [
    {
     "data": {
      "text/html": [
       "<div>\n",
       "<style scoped>\n",
       "    .dataframe tbody tr th:only-of-type {\n",
       "        vertical-align: middle;\n",
       "    }\n",
       "\n",
       "    .dataframe tbody tr th {\n",
       "        vertical-align: top;\n",
       "    }\n",
       "\n",
       "    .dataframe thead th {\n",
       "        text-align: right;\n",
       "    }\n",
       "</style>\n",
       "<table border=\"1\" class=\"dataframe\">\n",
       "  <thead>\n",
       "    <tr style=\"text-align: right;\">\n",
       "      <th></th>\n",
       "      <th>A2</th>\n",
       "      <th>A3</th>\n",
       "      <th>A8</th>\n",
       "      <th>A11</th>\n",
       "      <th>A14</th>\n",
       "      <th>A15</th>\n",
       "    </tr>\n",
       "  </thead>\n",
       "  <tbody>\n",
       "    <tr>\n",
       "      <th>count</th>\n",
       "      <td>678.000000</td>\n",
       "      <td>690.000000</td>\n",
       "      <td>690.000000</td>\n",
       "      <td>690.00000</td>\n",
       "      <td>677.000000</td>\n",
       "      <td>690.000000</td>\n",
       "    </tr>\n",
       "    <tr>\n",
       "      <th>mean</th>\n",
       "      <td>31.568171</td>\n",
       "      <td>4.758725</td>\n",
       "      <td>2.223406</td>\n",
       "      <td>2.40000</td>\n",
       "      <td>184.014771</td>\n",
       "      <td>1017.385507</td>\n",
       "    </tr>\n",
       "    <tr>\n",
       "      <th>std</th>\n",
       "      <td>11.957862</td>\n",
       "      <td>4.978163</td>\n",
       "      <td>3.346513</td>\n",
       "      <td>4.86294</td>\n",
       "      <td>173.806768</td>\n",
       "      <td>5210.102598</td>\n",
       "    </tr>\n",
       "    <tr>\n",
       "      <th>min</th>\n",
       "      <td>13.750000</td>\n",
       "      <td>0.000000</td>\n",
       "      <td>0.000000</td>\n",
       "      <td>0.00000</td>\n",
       "      <td>0.000000</td>\n",
       "      <td>0.000000</td>\n",
       "    </tr>\n",
       "    <tr>\n",
       "      <th>25%</th>\n",
       "      <td>22.602500</td>\n",
       "      <td>1.000000</td>\n",
       "      <td>0.165000</td>\n",
       "      <td>0.00000</td>\n",
       "      <td>75.000000</td>\n",
       "      <td>0.000000</td>\n",
       "    </tr>\n",
       "    <tr>\n",
       "      <th>50%</th>\n",
       "      <td>28.460000</td>\n",
       "      <td>2.750000</td>\n",
       "      <td>1.000000</td>\n",
       "      <td>0.00000</td>\n",
       "      <td>160.000000</td>\n",
       "      <td>5.000000</td>\n",
       "    </tr>\n",
       "    <tr>\n",
       "      <th>75%</th>\n",
       "      <td>38.230000</td>\n",
       "      <td>7.207500</td>\n",
       "      <td>2.625000</td>\n",
       "      <td>3.00000</td>\n",
       "      <td>276.000000</td>\n",
       "      <td>395.500000</td>\n",
       "    </tr>\n",
       "    <tr>\n",
       "      <th>max</th>\n",
       "      <td>80.250000</td>\n",
       "      <td>28.000000</td>\n",
       "      <td>28.500000</td>\n",
       "      <td>67.00000</td>\n",
       "      <td>2000.000000</td>\n",
       "      <td>100000.000000</td>\n",
       "    </tr>\n",
       "  </tbody>\n",
       "</table>\n",
       "</div>"
      ],
      "text/plain": [
       "               A2          A3          A8        A11          A14  \\\n",
       "count  678.000000  690.000000  690.000000  690.00000   677.000000   \n",
       "mean    31.568171    4.758725    2.223406    2.40000   184.014771   \n",
       "std     11.957862    4.978163    3.346513    4.86294   173.806768   \n",
       "min     13.750000    0.000000    0.000000    0.00000     0.000000   \n",
       "25%     22.602500    1.000000    0.165000    0.00000    75.000000   \n",
       "50%     28.460000    2.750000    1.000000    0.00000   160.000000   \n",
       "75%     38.230000    7.207500    2.625000    3.00000   276.000000   \n",
       "max     80.250000   28.000000   28.500000   67.00000  2000.000000   \n",
       "\n",
       "                 A15  \n",
       "count     690.000000  \n",
       "mean     1017.385507  \n",
       "std      5210.102598  \n",
       "min         0.000000  \n",
       "25%         0.000000  \n",
       "50%         5.000000  \n",
       "75%       395.500000  \n",
       "max    100000.000000  "
      ]
     },
     "execution_count": 7,
     "metadata": {},
     "output_type": "execute_result"
    }
   ],
   "source": [
    "data.describe()"
   ]
  },
  {
   "cell_type": "markdown",
   "metadata": {},
   "source": [
    "# Data Cleaning and Processing"
   ]
  },
  {
   "cell_type": "markdown",
   "metadata": {},
   "source": [
    "## Manage blank, null & nan values"
   ]
  },
  {
   "cell_type": "code",
   "execution_count": 8,
   "metadata": {},
   "outputs": [],
   "source": [
    "# Replace (impute) missing values (in numerical columns) with mean value\n",
    "data.fillna(data.mean(), inplace = True)"
   ]
  },
  {
   "cell_type": "code",
   "execution_count": 9,
   "metadata": {},
   "outputs": [
    {
     "name": "stdout",
     "output_type": "stream",
     "text": [
      "<class 'pandas.core.frame.DataFrame'>\n",
      "RangeIndex: 690 entries, 0 to 689\n",
      "Data columns (total 16 columns):\n",
      " #   Column  Non-Null Count  Dtype  \n",
      "---  ------  --------------  -----  \n",
      " 0   A1      678 non-null    object \n",
      " 1   A2      690 non-null    float64\n",
      " 2   A3      690 non-null    float64\n",
      " 3   A4      684 non-null    object \n",
      " 4   A5      684 non-null    object \n",
      " 5   A6      681 non-null    object \n",
      " 6   A7      681 non-null    object \n",
      " 7   A8      690 non-null    float64\n",
      " 8   A9      690 non-null    object \n",
      " 9   A10     690 non-null    object \n",
      " 10  A11     690 non-null    int64  \n",
      " 11  A12     690 non-null    object \n",
      " 12  A13     690 non-null    object \n",
      " 13  A14     690 non-null    float64\n",
      " 14  A15     690 non-null    int64  \n",
      " 15  class   690 non-null    object \n",
      "dtypes: float64(4), int64(2), object(10)\n",
      "memory usage: 86.4+ KB\n"
     ]
    }
   ],
   "source": [
    "data.info()"
   ]
  },
  {
   "cell_type": "markdown",
   "metadata": {},
   "source": [
    "## Rename Columns"
   ]
  },
  {
   "cell_type": "code",
   "execution_count": 10,
   "metadata": {},
   "outputs": [
    {
     "data": {
      "text/plain": [
       "Index(['A1', 'A2', 'A3', 'A4', 'A5', 'A6', 'A7', 'A8', 'A9', 'A10', 'A11',\n",
       "       'A12', 'A13', 'A14', 'A15', 'class'],\n",
       "      dtype='object')"
      ]
     },
     "execution_count": 10,
     "metadata": {},
     "output_type": "execute_result"
    }
   ],
   "source": [
    "data.columns"
   ]
  },
  {
   "cell_type": "code",
   "execution_count": 11,
   "metadata": {},
   "outputs": [],
   "source": [
    "data.rename(columns = {'A1':'Gender','A2':'Age','A3':'Debt',\n",
    "                         'A4':'Married','A5':'BankClient',\n",
    "                         'A6':'SchoolLevel','A7':'Ethnicity',\n",
    "                        'A8':'YearsWorked','A9':'PriorDefault',\n",
    "                         'A10':'Employed','A11':'CreditScore',\n",
    "                         'A12':'DriversID','A13':'Citizen',\n",
    "                        'A14':'ZipCode','A15':'Income','class':'Approval'\n",
    "                        }, inplace = True)"
   ]
  },
  {
   "cell_type": "code",
   "execution_count": 12,
   "metadata": {},
   "outputs": [
    {
     "data": {
      "text/plain": [
       "Index(['Gender', 'Age', 'Debt', 'Married', 'BankClient', 'SchoolLevel',\n",
       "       'Ethnicity', 'YearsWorked', 'PriorDefault', 'Employed', 'CreditScore',\n",
       "       'DriversID', 'Citizen', 'ZipCode', 'Income', 'Approval'],\n",
       "      dtype='object')"
      ]
     },
     "execution_count": 12,
     "metadata": {},
     "output_type": "execute_result"
    }
   ],
   "source": [
    "data.columns"
   ]
  },
  {
   "cell_type": "markdown",
   "metadata": {},
   "source": [
    "## Convert data to a useable format"
   ]
  },
  {
   "cell_type": "code",
   "execution_count": 13,
   "metadata": {},
   "outputs": [
    {
     "data": {
      "text/plain": [
       "0    b\n",
       "1    a\n",
       "2    a\n",
       "3    b\n",
       "4    b\n",
       "Name: Gender, dtype: object"
      ]
     },
     "execution_count": 13,
     "metadata": {},
     "output_type": "execute_result"
    }
   ],
   "source": [
    "data['Gender'].head()"
   ]
  },
  {
   "cell_type": "markdown",
   "metadata": {},
   "source": [
    "## For now just going to drop blank, null, nan values"
   ]
  },
  {
   "cell_type": "code",
   "execution_count": 14,
   "metadata": {},
   "outputs": [],
   "source": [
    "data.dropna(inplace = True)"
   ]
  },
  {
   "cell_type": "code",
   "execution_count": 15,
   "metadata": {},
   "outputs": [
    {
     "name": "stdout",
     "output_type": "stream",
     "text": [
      "<class 'pandas.core.frame.DataFrame'>\n",
      "Int64Index: 671 entries, 0 to 689\n",
      "Data columns (total 16 columns):\n",
      " #   Column        Non-Null Count  Dtype  \n",
      "---  ------        --------------  -----  \n",
      " 0   Gender        671 non-null    object \n",
      " 1   Age           671 non-null    float64\n",
      " 2   Debt          671 non-null    float64\n",
      " 3   Married       671 non-null    object \n",
      " 4   BankClient    671 non-null    object \n",
      " 5   SchoolLevel   671 non-null    object \n",
      " 6   Ethnicity     671 non-null    object \n",
      " 7   YearsWorked   671 non-null    float64\n",
      " 8   PriorDefault  671 non-null    object \n",
      " 9   Employed      671 non-null    object \n",
      " 10  CreditScore   671 non-null    int64  \n",
      " 11  DriversID     671 non-null    object \n",
      " 12  Citizen       671 non-null    object \n",
      " 13  ZipCode       671 non-null    float64\n",
      " 14  Income        671 non-null    int64  \n",
      " 15  Approval      671 non-null    object \n",
      "dtypes: float64(4), int64(2), object(10)\n",
      "memory usage: 89.1+ KB\n"
     ]
    }
   ],
   "source": [
    "data.info()"
   ]
  },
  {
   "cell_type": "code",
   "execution_count": 16,
   "metadata": {},
   "outputs": [
    {
     "data": {
      "text/plain": [
       "0    0\n",
       "1    1\n",
       "2    1\n",
       "3    0\n",
       "4    0\n",
       "Name: Gender, dtype: int64"
      ]
     },
     "execution_count": 16,
     "metadata": {},
     "output_type": "execute_result"
    }
   ],
   "source": [
    "# 0 = Female, 1 = Male\n",
    "data['Gender'] = data['Gender'].replace(['a','b'],[1,0]).apply(np.int64)\n",
    "data['Gender'].head()"
   ]
  },
  {
   "cell_type": "code",
   "execution_count": 17,
   "metadata": {},
   "outputs": [
    {
     "data": {
      "text/html": [
       "<div>\n",
       "<style scoped>\n",
       "    .dataframe tbody tr th:only-of-type {\n",
       "        vertical-align: middle;\n",
       "    }\n",
       "\n",
       "    .dataframe tbody tr th {\n",
       "        vertical-align: top;\n",
       "    }\n",
       "\n",
       "    .dataframe thead th {\n",
       "        text-align: right;\n",
       "    }\n",
       "</style>\n",
       "<table border=\"1\" class=\"dataframe\">\n",
       "  <thead>\n",
       "    <tr style=\"text-align: right;\">\n",
       "      <th></th>\n",
       "      <th>Gender</th>\n",
       "      <th>Age</th>\n",
       "      <th>Debt</th>\n",
       "      <th>Married</th>\n",
       "      <th>BankClient</th>\n",
       "      <th>SchoolLevel</th>\n",
       "      <th>Ethnicity</th>\n",
       "      <th>YearsWorked</th>\n",
       "      <th>PriorDefault</th>\n",
       "      <th>Employed</th>\n",
       "      <th>CreditScore</th>\n",
       "      <th>DriversID</th>\n",
       "      <th>Citizen</th>\n",
       "      <th>ZipCode</th>\n",
       "      <th>Income</th>\n",
       "      <th>Approval</th>\n",
       "    </tr>\n",
       "  </thead>\n",
       "  <tbody>\n",
       "    <tr>\n",
       "      <th>0</th>\n",
       "      <td>0</td>\n",
       "      <td>30.83</td>\n",
       "      <td>0.000</td>\n",
       "      <td>u</td>\n",
       "      <td>g</td>\n",
       "      <td>w</td>\n",
       "      <td>v</td>\n",
       "      <td>1.25</td>\n",
       "      <td>t</td>\n",
       "      <td>t</td>\n",
       "      <td>1</td>\n",
       "      <td>f</td>\n",
       "      <td>g</td>\n",
       "      <td>202.0</td>\n",
       "      <td>0</td>\n",
       "      <td>+</td>\n",
       "    </tr>\n",
       "    <tr>\n",
       "      <th>1</th>\n",
       "      <td>1</td>\n",
       "      <td>58.67</td>\n",
       "      <td>4.460</td>\n",
       "      <td>u</td>\n",
       "      <td>g</td>\n",
       "      <td>q</td>\n",
       "      <td>h</td>\n",
       "      <td>3.04</td>\n",
       "      <td>t</td>\n",
       "      <td>t</td>\n",
       "      <td>6</td>\n",
       "      <td>f</td>\n",
       "      <td>g</td>\n",
       "      <td>43.0</td>\n",
       "      <td>560</td>\n",
       "      <td>+</td>\n",
       "    </tr>\n",
       "    <tr>\n",
       "      <th>2</th>\n",
       "      <td>1</td>\n",
       "      <td>24.50</td>\n",
       "      <td>0.500</td>\n",
       "      <td>u</td>\n",
       "      <td>g</td>\n",
       "      <td>q</td>\n",
       "      <td>h</td>\n",
       "      <td>1.50</td>\n",
       "      <td>t</td>\n",
       "      <td>f</td>\n",
       "      <td>0</td>\n",
       "      <td>f</td>\n",
       "      <td>g</td>\n",
       "      <td>280.0</td>\n",
       "      <td>824</td>\n",
       "      <td>+</td>\n",
       "    </tr>\n",
       "    <tr>\n",
       "      <th>3</th>\n",
       "      <td>0</td>\n",
       "      <td>27.83</td>\n",
       "      <td>1.540</td>\n",
       "      <td>u</td>\n",
       "      <td>g</td>\n",
       "      <td>w</td>\n",
       "      <td>v</td>\n",
       "      <td>3.75</td>\n",
       "      <td>t</td>\n",
       "      <td>t</td>\n",
       "      <td>5</td>\n",
       "      <td>t</td>\n",
       "      <td>g</td>\n",
       "      <td>100.0</td>\n",
       "      <td>3</td>\n",
       "      <td>+</td>\n",
       "    </tr>\n",
       "    <tr>\n",
       "      <th>4</th>\n",
       "      <td>0</td>\n",
       "      <td>20.17</td>\n",
       "      <td>5.625</td>\n",
       "      <td>u</td>\n",
       "      <td>g</td>\n",
       "      <td>w</td>\n",
       "      <td>v</td>\n",
       "      <td>1.71</td>\n",
       "      <td>t</td>\n",
       "      <td>f</td>\n",
       "      <td>0</td>\n",
       "      <td>f</td>\n",
       "      <td>s</td>\n",
       "      <td>120.0</td>\n",
       "      <td>0</td>\n",
       "      <td>+</td>\n",
       "    </tr>\n",
       "  </tbody>\n",
       "</table>\n",
       "</div>"
      ],
      "text/plain": [
       "   Gender    Age   Debt Married BankClient SchoolLevel Ethnicity  YearsWorked  \\\n",
       "0       0  30.83  0.000       u          g           w         v         1.25   \n",
       "1       1  58.67  4.460       u          g           q         h         3.04   \n",
       "2       1  24.50  0.500       u          g           q         h         1.50   \n",
       "3       0  27.83  1.540       u          g           w         v         3.75   \n",
       "4       0  20.17  5.625       u          g           w         v         1.71   \n",
       "\n",
       "  PriorDefault Employed  CreditScore DriversID Citizen  ZipCode  Income  \\\n",
       "0            t        t            1         f       g    202.0       0   \n",
       "1            t        t            6         f       g     43.0     560   \n",
       "2            t        f            0         f       g    280.0     824   \n",
       "3            t        t            5         t       g    100.0       3   \n",
       "4            t        f            0         f       s    120.0       0   \n",
       "\n",
       "  Approval  \n",
       "0        +  \n",
       "1        +  \n",
       "2        +  \n",
       "3        +  \n",
       "4        +  "
      ]
     },
     "execution_count": 17,
     "metadata": {},
     "output_type": "execute_result"
    }
   ],
   "source": [
    "data.head()"
   ]
  },
  {
   "cell_type": "markdown",
   "metadata": {},
   "source": [
    "## Age should be whole numbers, not decimals"
   ]
  },
  {
   "cell_type": "code",
   "execution_count": 18,
   "metadata": {},
   "outputs": [
    {
     "data": {
      "text/plain": [
       "0    30\n",
       "1    58\n",
       "2    24\n",
       "3    27\n",
       "4    20\n",
       "Name: Age, dtype: int64"
      ]
     },
     "execution_count": 18,
     "metadata": {},
     "output_type": "execute_result"
    }
   ],
   "source": [
    "data['Age'] = data['Age'].apply(np.int64)\n",
    "data['Age'].head()"
   ]
  },
  {
   "cell_type": "markdown",
   "metadata": {},
   "source": [
    "## Values of 'u', 'y', 'l' aren't helpful - change with LabelEncoder()"
   ]
  },
  {
   "cell_type": "code",
   "execution_count": 19,
   "metadata": {},
   "outputs": [
    {
     "data": {
      "text/plain": [
       "u    510\n",
       "y    159\n",
       "l      2\n",
       "Name: Married, dtype: int64"
      ]
     },
     "execution_count": 19,
     "metadata": {},
     "output_type": "execute_result"
    }
   ],
   "source": [
    "data['Married'].value_counts()"
   ]
  },
  {
   "cell_type": "markdown",
   "metadata": {},
   "source": [
    "## Change 'Approval' column values (+/- aren't useful)"
   ]
  },
  {
   "cell_type": "code",
   "execution_count": 20,
   "metadata": {},
   "outputs": [
    {
     "data": {
      "text/plain": [
       "0    +\n",
       "1    +\n",
       "2    +\n",
       "3    +\n",
       "4    +\n",
       "Name: Approval, dtype: object"
      ]
     },
     "execution_count": 20,
     "metadata": {},
     "output_type": "execute_result"
    }
   ],
   "source": [
    "data['Approval'].head()"
   ]
  },
  {
   "cell_type": "code",
   "execution_count": 21,
   "metadata": {},
   "outputs": [
    {
     "name": "stdout",
     "output_type": "stream",
     "text": [
      "0    1\n",
      "1    1\n",
      "2    1\n",
      "3    1\n",
      "4    1\n",
      "Name: Approval, dtype: int64\n",
      "685    0\n",
      "686    0\n",
      "687    0\n",
      "688    0\n",
      "689    0\n",
      "Name: Approval, dtype: int64\n"
     ]
    }
   ],
   "source": [
    "# 0 = Not Approved, 1 = Approved\n",
    "data['Approval'] = data['Approval'].replace(['+','-'],[1,0]).apply(np.int64)\n",
    "print(data['Approval'].head())\n",
    "print(data['Approval'].tail())"
   ]
  },
  {
   "cell_type": "markdown",
   "metadata": {},
   "source": [
    "# Look into each column's specific data"
   ]
  },
  {
   "cell_type": "code",
   "execution_count": 22,
   "metadata": {},
   "outputs": [],
   "source": [
    "# 'Gender', 'Age', 'Debt', 'Married', 'BankCustomer', 'EducationLevel',\n",
    "# 'Ethnicity', 'YearsEmployed', 'PriorDefault', 'Employed', 'CreditScore',\n",
    "# 'DriversLicense', 'Citizen', 'ZipCode', 'Income', 'Approval'\n",
    "\n",
    "# for col in data.columns:\n",
    "#     print(data[col].value_counts())\n",
    "#     print()"
   ]
  },
  {
   "cell_type": "markdown",
   "metadata": {},
   "source": [
    "## Change (encode) non-numerical values to numerical values"
   ]
  },
  {
   "cell_type": "code",
   "execution_count": 23,
   "metadata": {},
   "outputs": [],
   "source": [
    "le = LabelEncoder()\n",
    "\n",
    "for col in data:\n",
    "    if data[col].dtypes == 'object':\n",
    "        data[col] = le.fit_transform(data[col])"
   ]
  },
  {
   "cell_type": "code",
   "execution_count": 24,
   "metadata": {},
   "outputs": [
    {
     "data": {
      "text/html": [
       "<div>\n",
       "<style scoped>\n",
       "    .dataframe tbody tr th:only-of-type {\n",
       "        vertical-align: middle;\n",
       "    }\n",
       "\n",
       "    .dataframe tbody tr th {\n",
       "        vertical-align: top;\n",
       "    }\n",
       "\n",
       "    .dataframe thead th {\n",
       "        text-align: right;\n",
       "    }\n",
       "</style>\n",
       "<table border=\"1\" class=\"dataframe\">\n",
       "  <thead>\n",
       "    <tr style=\"text-align: right;\">\n",
       "      <th></th>\n",
       "      <th>Gender</th>\n",
       "      <th>Age</th>\n",
       "      <th>Debt</th>\n",
       "      <th>Married</th>\n",
       "      <th>BankClient</th>\n",
       "      <th>SchoolLevel</th>\n",
       "      <th>Ethnicity</th>\n",
       "      <th>YearsWorked</th>\n",
       "      <th>PriorDefault</th>\n",
       "      <th>Employed</th>\n",
       "      <th>CreditScore</th>\n",
       "      <th>DriversID</th>\n",
       "      <th>Citizen</th>\n",
       "      <th>ZipCode</th>\n",
       "      <th>Income</th>\n",
       "      <th>Approval</th>\n",
       "    </tr>\n",
       "  </thead>\n",
       "  <tbody>\n",
       "    <tr>\n",
       "      <th>680</th>\n",
       "      <td>0</td>\n",
       "      <td>19</td>\n",
       "      <td>0.290</td>\n",
       "      <td>1</td>\n",
       "      <td>0</td>\n",
       "      <td>8</td>\n",
       "      <td>7</td>\n",
       "      <td>0.290</td>\n",
       "      <td>0</td>\n",
       "      <td>0</td>\n",
       "      <td>0</td>\n",
       "      <td>0</td>\n",
       "      <td>0</td>\n",
       "      <td>280.0</td>\n",
       "      <td>364</td>\n",
       "      <td>0</td>\n",
       "    </tr>\n",
       "    <tr>\n",
       "      <th>681</th>\n",
       "      <td>0</td>\n",
       "      <td>27</td>\n",
       "      <td>1.000</td>\n",
       "      <td>2</td>\n",
       "      <td>2</td>\n",
       "      <td>3</td>\n",
       "      <td>3</td>\n",
       "      <td>3.000</td>\n",
       "      <td>0</td>\n",
       "      <td>0</td>\n",
       "      <td>0</td>\n",
       "      <td>0</td>\n",
       "      <td>0</td>\n",
       "      <td>176.0</td>\n",
       "      <td>537</td>\n",
       "      <td>0</td>\n",
       "    </tr>\n",
       "    <tr>\n",
       "      <th>682</th>\n",
       "      <td>0</td>\n",
       "      <td>17</td>\n",
       "      <td>3.290</td>\n",
       "      <td>1</td>\n",
       "      <td>0</td>\n",
       "      <td>6</td>\n",
       "      <td>7</td>\n",
       "      <td>0.335</td>\n",
       "      <td>0</td>\n",
       "      <td>0</td>\n",
       "      <td>0</td>\n",
       "      <td>1</td>\n",
       "      <td>0</td>\n",
       "      <td>140.0</td>\n",
       "      <td>2</td>\n",
       "      <td>0</td>\n",
       "    </tr>\n",
       "    <tr>\n",
       "      <th>683</th>\n",
       "      <td>0</td>\n",
       "      <td>36</td>\n",
       "      <td>0.750</td>\n",
       "      <td>2</td>\n",
       "      <td>2</td>\n",
       "      <td>3</td>\n",
       "      <td>7</td>\n",
       "      <td>0.585</td>\n",
       "      <td>0</td>\n",
       "      <td>0</td>\n",
       "      <td>0</td>\n",
       "      <td>0</td>\n",
       "      <td>0</td>\n",
       "      <td>240.0</td>\n",
       "      <td>3</td>\n",
       "      <td>0</td>\n",
       "    </tr>\n",
       "    <tr>\n",
       "      <th>684</th>\n",
       "      <td>0</td>\n",
       "      <td>40</td>\n",
       "      <td>3.290</td>\n",
       "      <td>1</td>\n",
       "      <td>0</td>\n",
       "      <td>9</td>\n",
       "      <td>7</td>\n",
       "      <td>3.500</td>\n",
       "      <td>0</td>\n",
       "      <td>0</td>\n",
       "      <td>0</td>\n",
       "      <td>1</td>\n",
       "      <td>2</td>\n",
       "      <td>400.0</td>\n",
       "      <td>0</td>\n",
       "      <td>0</td>\n",
       "    </tr>\n",
       "    <tr>\n",
       "      <th>685</th>\n",
       "      <td>0</td>\n",
       "      <td>21</td>\n",
       "      <td>10.085</td>\n",
       "      <td>2</td>\n",
       "      <td>2</td>\n",
       "      <td>4</td>\n",
       "      <td>3</td>\n",
       "      <td>1.250</td>\n",
       "      <td>0</td>\n",
       "      <td>0</td>\n",
       "      <td>0</td>\n",
       "      <td>0</td>\n",
       "      <td>0</td>\n",
       "      <td>260.0</td>\n",
       "      <td>0</td>\n",
       "      <td>0</td>\n",
       "    </tr>\n",
       "    <tr>\n",
       "      <th>686</th>\n",
       "      <td>1</td>\n",
       "      <td>22</td>\n",
       "      <td>0.750</td>\n",
       "      <td>1</td>\n",
       "      <td>0</td>\n",
       "      <td>1</td>\n",
       "      <td>7</td>\n",
       "      <td>2.000</td>\n",
       "      <td>0</td>\n",
       "      <td>1</td>\n",
       "      <td>2</td>\n",
       "      <td>1</td>\n",
       "      <td>0</td>\n",
       "      <td>200.0</td>\n",
       "      <td>394</td>\n",
       "      <td>0</td>\n",
       "    </tr>\n",
       "    <tr>\n",
       "      <th>687</th>\n",
       "      <td>1</td>\n",
       "      <td>25</td>\n",
       "      <td>13.500</td>\n",
       "      <td>2</td>\n",
       "      <td>2</td>\n",
       "      <td>5</td>\n",
       "      <td>2</td>\n",
       "      <td>2.000</td>\n",
       "      <td>0</td>\n",
       "      <td>1</td>\n",
       "      <td>1</td>\n",
       "      <td>1</td>\n",
       "      <td>0</td>\n",
       "      <td>200.0</td>\n",
       "      <td>1</td>\n",
       "      <td>0</td>\n",
       "    </tr>\n",
       "    <tr>\n",
       "      <th>688</th>\n",
       "      <td>0</td>\n",
       "      <td>17</td>\n",
       "      <td>0.205</td>\n",
       "      <td>1</td>\n",
       "      <td>0</td>\n",
       "      <td>0</td>\n",
       "      <td>7</td>\n",
       "      <td>0.040</td>\n",
       "      <td>0</td>\n",
       "      <td>0</td>\n",
       "      <td>0</td>\n",
       "      <td>0</td>\n",
       "      <td>0</td>\n",
       "      <td>280.0</td>\n",
       "      <td>750</td>\n",
       "      <td>0</td>\n",
       "    </tr>\n",
       "    <tr>\n",
       "      <th>689</th>\n",
       "      <td>0</td>\n",
       "      <td>35</td>\n",
       "      <td>3.375</td>\n",
       "      <td>1</td>\n",
       "      <td>0</td>\n",
       "      <td>1</td>\n",
       "      <td>3</td>\n",
       "      <td>8.290</td>\n",
       "      <td>0</td>\n",
       "      <td>0</td>\n",
       "      <td>0</td>\n",
       "      <td>1</td>\n",
       "      <td>0</td>\n",
       "      <td>0.0</td>\n",
       "      <td>0</td>\n",
       "      <td>0</td>\n",
       "    </tr>\n",
       "  </tbody>\n",
       "</table>\n",
       "</div>"
      ],
      "text/plain": [
       "     Gender  Age    Debt  Married  BankClient  SchoolLevel  Ethnicity  \\\n",
       "680       0   19   0.290        1           0            8          7   \n",
       "681       0   27   1.000        2           2            3          3   \n",
       "682       0   17   3.290        1           0            6          7   \n",
       "683       0   36   0.750        2           2            3          7   \n",
       "684       0   40   3.290        1           0            9          7   \n",
       "685       0   21  10.085        2           2            4          3   \n",
       "686       1   22   0.750        1           0            1          7   \n",
       "687       1   25  13.500        2           2            5          2   \n",
       "688       0   17   0.205        1           0            0          7   \n",
       "689       0   35   3.375        1           0            1          3   \n",
       "\n",
       "     YearsWorked  PriorDefault  Employed  CreditScore  DriversID  Citizen  \\\n",
       "680        0.290             0         0            0          0        0   \n",
       "681        3.000             0         0            0          0        0   \n",
       "682        0.335             0         0            0          1        0   \n",
       "683        0.585             0         0            0          0        0   \n",
       "684        3.500             0         0            0          1        2   \n",
       "685        1.250             0         0            0          0        0   \n",
       "686        2.000             0         1            2          1        0   \n",
       "687        2.000             0         1            1          1        0   \n",
       "688        0.040             0         0            0          0        0   \n",
       "689        8.290             0         0            0          1        0   \n",
       "\n",
       "     ZipCode  Income  Approval  \n",
       "680    280.0     364         0  \n",
       "681    176.0     537         0  \n",
       "682    140.0       2         0  \n",
       "683    240.0       3         0  \n",
       "684    400.0       0         0  \n",
       "685    260.0       0         0  \n",
       "686    200.0     394         0  \n",
       "687    200.0       1         0  \n",
       "688    280.0     750         0  \n",
       "689      0.0       0         0  "
      ]
     },
     "execution_count": 24,
     "metadata": {},
     "output_type": "execute_result"
    }
   ],
   "source": [
    "data.tail(10)"
   ]
  },
  {
   "cell_type": "code",
   "execution_count": 25,
   "metadata": {},
   "outputs": [],
   "source": [
    "data2 = data.copy()"
   ]
  },
  {
   "cell_type": "markdown",
   "metadata": {},
   "source": [
    "## Feature correlations"
   ]
  },
  {
   "cell_type": "code",
   "execution_count": 26,
   "metadata": {},
   "outputs": [
    {
     "name": "stdout",
     "output_type": "stream",
     "text": [
      "AxesSubplot(0.125,0.125;0.62x0.755)\n"
     ]
    },
    {
     "data": {
      "image/png": "[encoded data removed]",
      "text/plain": [
       "<Figure size 864x648 with 2 Axes>"
      ]
     },
     "metadata": {
      "needs_background": "light"
     },
     "output_type": "display_data"
    }
   ],
   "source": [
    "correlations = data.corr()\n",
    "f, ax = plt.subplots(figsize = (12, 9))\n",
    "\n",
    "mask = np.zeros_like(correlations, dtype = np.bool)\n",
    "mask[np.triu_indices_from(mask)] = True\n",
    "\n",
    "heatmap_one = sns.heatmap(correlations, cmap = 'Reds', mask = mask)\n",
    "print(heatmap_one)\n",
    "\n",
    "# Save visual as png file\n",
    "# fig = heatmap_one.get_figure()\n",
    "# fig.savefig(\"output.png\")"
   ]
  },
  {
   "cell_type": "markdown",
   "metadata": {},
   "source": [
    "## Subset of data with significant correlation"
   ]
  },
  {
   "cell_type": "code",
   "execution_count": 27,
   "metadata": {},
   "outputs": [
    {
     "data": {
      "text/plain": [
       "<matplotlib.axes._subplots.AxesSubplot at 0x10b5fb198>"
      ]
     },
     "execution_count": 27,
     "metadata": {},
     "output_type": "execute_result"
    },
    {
     "data": {
      "image/png": "[encoded data removed]",
      "text/plain": [
       "<Figure size 864x648 with 2 Axes>"
      ]
     },
     "metadata": {
      "needs_background": "light"
     },
     "output_type": "display_data"
    }
   ],
   "source": [
    "cols = ['Age', 'Debt', 'SchoolLevel', 'YearsWorked', 'PriorDefault',\n",
    "        'Employed', 'CreditScore', 'Income', 'Approval']\n",
    "\n",
    "sig_corr = data[cols].corr()\n",
    "f, ax = plt.subplots(figsize = (12, 9))\n",
    "\n",
    "mask = np.zeros_like(sig_corr, dtype = np.bool)\n",
    "mask[np.triu_indices_from(mask)] = True\n",
    "\n",
    "sns.heatmap(sig_corr, cmap = 'Reds', mask = mask)"
   ]
  },
  {
   "cell_type": "markdown",
   "metadata": {},
   "source": [
    "## Subset of data with most significant correlation"
   ]
  },
  {
   "cell_type": "code",
   "execution_count": 28,
   "metadata": {},
   "outputs": [
    {
     "data": {
      "text/plain": [
       "<matplotlib.axes._subplots.AxesSubplot at 0x12987f588>"
      ]
     },
     "execution_count": 28,
     "metadata": {},
     "output_type": "execute_result"
    },
    {
     "data": {
      "image/png": "[encoded data removed]",
      "text/plain": [
       "<Figure size 864x648 with 2 Axes>"
      ]
     },
     "metadata": {
      "needs_background": "light"
     },
     "output_type": "display_data"
    }
   ],
   "source": [
    "# These columns are my best guess at the most/best important\n",
    "# features for credit card application approval\n",
    "cols2 = ['Debt', 'YearsWorked', 'PriorDefault', 'Employed',\n",
    "        'CreditScore', 'Income', 'Approval']\n",
    "\n",
    "m_sig_corr = data[cols2].corr()\n",
    "f, ax = plt.subplots(figsize = (12, 9))\n",
    "\n",
    "mask = np.zeros_like(m_sig_corr, dtype = np.bool)\n",
    "mask[np.triu_indices_from(mask)] = True\n",
    "\n",
    "sns.heatmap(m_sig_corr, cmap ='Reds', mask = mask)"
   ]
  },
  {
   "cell_type": "markdown",
   "metadata": {},
   "source": [
    "# Final subset of data pairplot"
   ]
  },
  {
   "cell_type": "code",
   "execution_count": 29,
   "metadata": {},
   "outputs": [
    {
     "data": {
      "image/png": "[encoded data removed]",
      "text/plain": [
       "<Figure size 1080x1080 with 42 Axes>"
      ]
     },
     "metadata": {},
     "output_type": "display_data"
    }
   ],
   "source": [
    "sns.set()\n",
    "cols3 = ['Debt', 'YearsWorked', 'PriorDefault', 'Employed',\n",
    "        'CreditScore', 'Income']\n",
    "sns.pairplot(data[cols3])\n",
    "plt.show()"
   ]
  },
  {
   "cell_type": "markdown",
   "metadata": {},
   "source": [
    "## Data subset distributions"
   ]
  },
  {
   "cell_type": "code",
   "execution_count": 30,
   "metadata": {},
   "outputs": [
    {
     "data": {
      "image/png": "[encoded data removed]",
      "text/plain": [
       "<Figure size 432x288 with 1 Axes>"
      ]
     },
     "metadata": {},
     "output_type": "display_data"
    },
    {
     "data": {
      "image/png": "[encoded data removed]",
      "text/plain": [
       "<Figure size 432x288 with 1 Axes>"
      ]
     },
     "metadata": {},
     "output_type": "display_data"
    },
    {
     "data": {
      "image/png": "[encoded data removed]",
      "text/plain": [
       "<Figure size 432x288 with 1 Axes>"
      ]
     },
     "metadata": {},
     "output_type": "display_data"
    },
    {
     "data": {
      "image/png": "[encoded data removed]",
      "text/plain": [
       "<Figure size 432x288 with 1 Axes>"
      ]
     },
     "metadata": {},
     "output_type": "display_data"
    },
    {
     "data": {
      "image/png": "[encoded data removed]",
      "text/plain": [
       "<Figure size 432x288 with 1 Axes>"
      ]
     },
     "metadata": {},
     "output_type": "display_data"
    },
    {
     "data": {
      "image/png": "[encoded data removed]",
      "text/plain": [
       "<Figure size 432x288 with 1 Axes>"
      ]
     },
     "metadata": {},
     "output_type": "display_data"
    }
   ],
   "source": [
    "cols4 = ['Debt', 'YearsWorked', 'PriorDefault', 'Employed',\n",
    "        'CreditScore', 'Income']\n",
    "\n",
    "def plotDistPlot(col):\n",
    "    sns.distplot(col)\n",
    "    plt.show()\n",
    "    \n",
    "    \n",
    "for col in cols4:\n",
    "    plotDistPlot(data[col])"
   ]
  },
  {
   "cell_type": "markdown",
   "metadata": {},
   "source": [
    "## Countplot of the 'Approval' column"
   ]
  },
  {
   "cell_type": "code",
   "execution_count": 31,
   "metadata": {},
   "outputs": [
    {
     "data": {
      "text/plain": [
       "<matplotlib.axes._subplots.AxesSubplot at 0x129fa94e0>"
      ]
     },
     "execution_count": 31,
     "metadata": {},
     "output_type": "execute_result"
    },
    {
     "data": {
      "image/png": "[encoded data removed]",
      "text/plain": [
       "<Figure size 432x288 with 1 Axes>"
      ]
     },
     "metadata": {},
     "output_type": "display_data"
    }
   ],
   "source": [
    "# 1 = Approved and 0 = Not Approved\n",
    "sns.countplot(data = data, x = 'Approval')"
   ]
  },
  {
   "cell_type": "markdown",
   "metadata": {},
   "source": [
    "# Train, Test, Split Before Modeling"
   ]
  },
  {
   "cell_type": "code",
   "execution_count": 32,
   "metadata": {},
   "outputs": [],
   "source": [
    "# The first iterations of these models will include all columns except 'DriversLicense' and 'ZipCode'\n",
    "# Later iterations of the models will have even fewer columns of data\n",
    "# For the initial models, I will not be scaling the data until later iterations (if applicable)\n",
    "data = data.drop(['DriversID', 'ZipCode'], axis = 1)"
   ]
  },
  {
   "cell_type": "code",
   "execution_count": 33,
   "metadata": {},
   "outputs": [],
   "source": [
    "X = data.drop(columns = 'Approval', axis = 1)\n",
    "y = data['Approval']\n",
    "X2 = X.copy()\n",
    "y2 = y.copy()\n",
    "X3 = X.copy()\n",
    "y3 = y.copy()"
   ]
  },
  {
   "cell_type": "code",
   "execution_count": 34,
   "metadata": {},
   "outputs": [],
   "source": [
    "X_smote, y_smote = SMOTE().fit_sample(X3, y3)\n",
    "X_balance = pd.DataFrame(X_smote, columns = X.columns)"
   ]
  },
  {
   "cell_type": "code",
   "execution_count": 35,
   "metadata": {},
   "outputs": [],
   "source": [
    "X_train_smote, X_test_smote, y_train_smote, y_test_smote = train_test_split(X_smote, y_smote, test_size = 0.3, random_state = 42)"
   ]
  },
  {
   "cell_type": "code",
   "execution_count": 36,
   "metadata": {},
   "outputs": [],
   "source": [
    "X_train, X_test, y_train, y_test = train_test_split(X, y, test_size = 0.3, random_state = 42)"
   ]
  },
  {
   "cell_type": "code",
   "execution_count": 37,
   "metadata": {},
   "outputs": [],
   "source": [
    "ss = StandardScaler()\n",
    "X_train_scale = ss.fit_transform(X_train)\n",
    "X_test_scale = ss.transform(X_test)"
   ]
  },
  {
   "cell_type": "markdown",
   "metadata": {},
   "source": [
    "## Accuracy, confusion matrix, classification report function"
   ]
  },
  {
   "cell_type": "code",
   "execution_count": 38,
   "metadata": {},
   "outputs": [],
   "source": [
    "def print_metrics(y_test_smote, y_pred):\n",
    "    print('Accuracy Score is:', accuracy_score(y_test_smote, y_pred) * 100)\n",
    "    print()\n",
    "    print('Confusion matrix:')\n",
    "    print(confusion_matrix(y_test_smote, y_pred))\n",
    "    print()\n",
    "    print('Classification report:')\n",
    "    print(classification_report(y_test_smote, y_pred))"
   ]
  },
  {
   "cell_type": "markdown",
   "metadata": {},
   "source": [
    "# First SMOTE Logistic Regression model"
   ]
  },
  {
   "cell_type": "code",
   "execution_count": 39,
   "metadata": {},
   "outputs": [
    {
     "name": "stdout",
     "output_type": "stream",
     "text": [
      "Accuracy Score is: 84.30493273542601\n",
      "\n",
      "Confusion matrix:\n",
      "[[89 26]\n",
      " [ 9 99]]\n",
      "\n",
      "Classification report:\n",
      "              precision    recall  f1-score   support\n",
      "\n",
      "           0       0.91      0.77      0.84       115\n",
      "           1       0.79      0.92      0.85       108\n",
      "\n",
      "    accuracy                           0.84       223\n",
      "   macro avg       0.85      0.85      0.84       223\n",
      "weighted avg       0.85      0.84      0.84       223\n",
      "\n"
     ]
    }
   ],
   "source": [
    "log_reg = LogisticRegression(random_state = 42, solver = 'liblinear').fit(X_train_smote, y_train_smote)\n",
    "y_pred = log_reg.predict(X_test_smote)\n",
    "\n",
    "print_metrics(y_test_smote, y_pred)"
   ]
  },
  {
   "cell_type": "markdown",
   "metadata": {},
   "source": [
    "# First SMOTE Random Forest model"
   ]
  },
  {
   "cell_type": "code",
   "execution_count": 40,
   "metadata": {},
   "outputs": [
    {
     "name": "stdout",
     "output_type": "stream",
     "text": [
      "Accuracy Score is: 83.40807174887892\n",
      "\n",
      "Confusion matrix:\n",
      "[[94 21]\n",
      " [16 92]]\n",
      "\n",
      "Classification report:\n",
      "              precision    recall  f1-score   support\n",
      "\n",
      "           0       0.85      0.82      0.84       115\n",
      "           1       0.81      0.85      0.83       108\n",
      "\n",
      "    accuracy                           0.83       223\n",
      "   macro avg       0.83      0.83      0.83       223\n",
      "weighted avg       0.83      0.83      0.83       223\n",
      "\n"
     ]
    }
   ],
   "source": [
    "rf = RandomForestClassifier(random_state = 42, n_estimators = 100).fit(X_train_smote, y_train_smote)\n",
    "y_pred = rf.predict(X_test_smote)\n",
    "\n",
    "print_metrics(y_test_smote, y_pred)"
   ]
  },
  {
   "cell_type": "markdown",
   "metadata": {},
   "source": [
    "## First SMOTE XGBoost model"
   ]
  },
  {
   "cell_type": "code",
   "execution_count": 41,
   "metadata": {},
   "outputs": [
    {
     "name": "stdout",
     "output_type": "stream",
     "text": [
      "Accuracy Score is: 81.16591928251121\n",
      "\n",
      "Confusion matrix:\n",
      "[[90 25]\n",
      " [17 91]]\n",
      "\n",
      "Classification report:\n",
      "              precision    recall  f1-score   support\n",
      "\n",
      "           0       0.84      0.78      0.81       115\n",
      "           1       0.78      0.84      0.81       108\n",
      "\n",
      "    accuracy                           0.81       223\n",
      "   macro avg       0.81      0.81      0.81       223\n",
      "weighted avg       0.81      0.81      0.81       223\n",
      "\n"
     ]
    }
   ],
   "source": [
    "xgb = XGBClassifier(random_state = 42).fit(X_train_smote, y_train_smote)\n",
    "y_pred = xgb.predict(X_test_smote)\n",
    "\n",
    "print_metrics(y_test_smote, y_pred)"
   ]
  },
  {
   "cell_type": "markdown",
   "metadata": {},
   "source": [
    "## First SMOTE Ada Boost Classifier model"
   ]
  },
  {
   "cell_type": "code",
   "execution_count": 42,
   "metadata": {},
   "outputs": [
    {
     "name": "stdout",
     "output_type": "stream",
     "text": [
      "Accuracy Score is: 82.95964125560538\n",
      "\n",
      "Confusion matrix:\n",
      "[[87 28]\n",
      " [10 98]]\n",
      "\n",
      "Classification report:\n",
      "              precision    recall  f1-score   support\n",
      "\n",
      "           0       0.90      0.76      0.82       115\n",
      "           1       0.78      0.91      0.84       108\n",
      "\n",
      "    accuracy                           0.83       223\n",
      "   macro avg       0.84      0.83      0.83       223\n",
      "weighted avg       0.84      0.83      0.83       223\n",
      "\n"
     ]
    }
   ],
   "source": [
    "ada = AdaBoostClassifier(random_state = 42).fit(X_train_smote, y_train_smote)\n",
    "y_pred = ada.predict(X_test_smote)\n",
    "\n",
    "print_metrics(y_test_smote, y_pred)"
   ]
  },
  {
   "cell_type": "markdown",
   "metadata": {},
   "source": [
    "## First SMOTE Gradient Boost model"
   ]
  },
  {
   "cell_type": "code",
   "execution_count": 43,
   "metadata": {},
   "outputs": [
    {
     "name": "stdout",
     "output_type": "stream",
     "text": [
      "Accuracy Score is: 82.51121076233184\n",
      "\n",
      "Confusion matrix:\n",
      "[[91 24]\n",
      " [15 93]]\n",
      "\n",
      "Classification report:\n",
      "              precision    recall  f1-score   support\n",
      "\n",
      "           0       0.86      0.79      0.82       115\n",
      "           1       0.79      0.86      0.83       108\n",
      "\n",
      "    accuracy                           0.83       223\n",
      "   macro avg       0.83      0.83      0.83       223\n",
      "weighted avg       0.83      0.83      0.83       223\n",
      "\n"
     ]
    }
   ],
   "source": [
    "gbc = GradientBoostingClassifier(random_state = 42).fit(X_train_smote, y_train_smote)\n",
    "y_pred = gbc.predict(X_test_smote)\n",
    "\n",
    "print_metrics(y_test_smote, y_pred)"
   ]
  },
  {
   "cell_type": "markdown",
   "metadata": {},
   "source": [
    "## Feature Importances with Chi-Squared"
   ]
  },
  {
   "cell_type": "code",
   "execution_count": 44,
   "metadata": {},
   "outputs": [
    {
     "name": "stdout",
     "output_type": "stream",
     "text": [
      "    Feature Name          Score\n",
      "12        Income  563411.147139\n",
      "10   CreditScore    1103.833737\n",
      "7    YearsWorked     356.027429\n",
      "8   PriorDefault     168.020391\n",
      "2           Debt     146.905936\n",
      "1            Age      92.582490\n",
      "9       Employed      78.862259\n",
      "5    SchoolLevel      37.030664\n",
      "4     BankClient      32.971019\n",
      "11       Citizen      13.141317\n",
      "3        Married       3.612912\n",
      "0         Gender       0.175559\n",
      "6      Ethnicity       0.007666\n"
     ]
    }
   ],
   "source": [
    "# Apply SelectKBest class to extract all feature importances (k='all')\n",
    "top_features = SelectKBest(score_func = chi2, k = 'all')\n",
    "top_features.fit(X3, y3)\n",
    "scores = pd.DataFrame(top_features.scores_)\n",
    "columns = pd.DataFrame(X3.columns)\n",
    "\n",
    "# Concat two df for better visualization \n",
    "top_scores = pd.concat([columns, scores], axis = 1)\n",
    "top_scores.columns = ['Feature Name', 'Score']\n",
    "print(top_scores.nlargest(13, 'Score'))"
   ]
  },
  {
   "cell_type": "markdown",
   "metadata": {},
   "source": [
    "## Logistic Regression Feature Importance"
   ]
  },
  {
   "cell_type": "code",
   "execution_count": 45,
   "metadata": {},
   "outputs": [
    {
     "name": "stdout",
     "output_type": "stream",
     "text": [
      "Feature: Gender, Score: 0.05511\n",
      "Feature: Age, Score: -0.01272\n",
      "Feature: Debt, Score: -0.02141\n",
      "Feature: Married, Score: -1.45723\n",
      "Feature: BankClient, Score: 0.36993\n",
      "Feature: SchoolLevel, Score: 0.04645\n",
      "Feature: Ethnicity, Score: 0.01330\n",
      "Feature: YearsWorked, Score: 0.16753\n",
      "Feature: PriorDefault, Score: 3.49210\n",
      "Feature: Employed, Score: 0.19493\n",
      "Feature: CreditScore, Score: 0.15436\n",
      "Feature: DriversID, Score: 0.11242\n",
      "Feature: Citizen, Score: 0.00050\n"
     ]
    },
    {
     "data": {
      "image/png": "[encoded data removed]",
      "text/plain": [
       "<Figure size 432x288 with 1 Axes>"
      ]
     },
     "metadata": {},
     "output_type": "display_data"
    }
   ],
   "source": [
    "importance = log_reg.coef_[0]\n",
    "cols = data2.columns\n",
    "indices = np.argsort(importance)\n",
    "\n",
    "# Uncomment all lines below here to see outputs\n",
    "\n",
    "for i, v in enumerate(importance):\n",
    "\tprint('Feature: %s, Score: %.5f' % (cols[i], v))\n",
    "    \n",
    "plt.title('Logistic Regression Feature Importances')\n",
    "plt.barh(range(len(indices)), importance[indices], color = 'r', align = 'center')\n",
    "plt.yticks(range(len(indices)), [cols[i] for i in indices])\n",
    "plt.xlabel('Relative Importance')\n",
    "plt.show()"
   ]
  },
  {
   "cell_type": "code",
   "execution_count": 46,
   "metadata": {},
   "outputs": [
    {
     "name": "stdout",
     "output_type": "stream",
     "text": [
      "Feature: Gender, Score: 0.05511\n",
      "Feature: Age, Score: -0.01272\n",
      "Feature: Debt, Score: -0.02141\n",
      "Feature: Married, Score: -1.45723\n",
      "Feature: BankClient, Score: 0.36993\n",
      "Feature: SchoolLevel, Score: 0.04645\n",
      "Feature: Ethnicity, Score: 0.01330\n",
      "Feature: YearsWorked, Score: 0.16753\n",
      "Feature: PriorDefault, Score: 3.49210\n",
      "Feature: Employed, Score: 0.19493\n",
      "Feature: CreditScore, Score: 0.15436\n",
      "Feature: Citizen, Score: 0.11242\n",
      "Feature: Income, Score: 0.00050\n"
     ]
    },
    {
     "data": {
      "image/png": "[encoded data removed]",
      "text/plain": [
       "<Figure size 432x288 with 1 Axes>"
      ]
     },
     "metadata": {},
     "output_type": "display_data"
    }
   ],
   "source": [
    "importance = log_reg.coef_[0]\n",
    "cols = data.columns\n",
    "indices = np.argsort(importance)\n",
    "\n",
    "# Uncomment all lines below here to see outputs\n",
    "\n",
    "for i, v in enumerate(importance):\n",
    "\tprint('Feature: %s, Score: %.5f' % (cols[i], v))\n",
    "    \n",
    "plt.title('Logistic Regression Feature Importances')\n",
    "plt.barh(range(len(indices)), importance[indices], color = 'r', align = 'center')\n",
    "plt.yticks(range(len(indices)), [cols[i] for i in indices])\n",
    "plt.xlabel('Relative Importance')\n",
    "plt.show()"
   ]
  },
  {
   "cell_type": "markdown",
   "metadata": {},
   "source": [
    "## Function to visualize 4 different models' feature importances"
   ]
  },
  {
   "cell_type": "code",
   "execution_count": 47,
   "metadata": {},
   "outputs": [],
   "source": [
    "def feature_imp_viz(model):\n",
    "    features = data2.columns\n",
    "    importances = model.feature_importances_\n",
    "    indices = np.argsort(importances)\n",
    "    \n",
    "    model_name = 'model_name'\n",
    "    \n",
    "    if model == rf:\n",
    "        model_name = 'Random Forest'\n",
    "    elif model == xgb:\n",
    "        model_name = 'XG Boost'\n",
    "    elif model == ada:\n",
    "        model_name = 'Ada Boost'\n",
    "    else:\n",
    "        model_name = 'Gradient Boost'\n",
    "    \n",
    "    print('*' * 60)\n",
    "    \n",
    "    for i, v in enumerate(importances):\n",
    "        print('Feature: %s, Score: %.5f' % (features[i], v))\n",
    "    \n",
    "    plt.title(model_name + ' Feature Importances')\n",
    "    plt.barh(range(len(indices)), importances[indices], color = 'r', align = 'center')\n",
    "    plt.yticks(range(len(indices)), [features[i] for i in indices])\n",
    "    plt.xlabel('Relative Importance')\n",
    "    plt.show()"
   ]
  },
  {
   "cell_type": "markdown",
   "metadata": {},
   "source": [
    "## Visualize 4 different models' feature importances"
   ]
  },
  {
   "cell_type": "code",
   "execution_count": 48,
   "metadata": {},
   "outputs": [
    {
     "name": "stdout",
     "output_type": "stream",
     "text": [
      "************************************************************\n",
      "Feature: Gender, Score: 0.01055\n",
      "Feature: Age, Score: 0.06335\n",
      "Feature: Debt, Score: 0.08268\n",
      "Feature: Married, Score: 0.01930\n",
      "Feature: BankClient, Score: 0.01966\n",
      "Feature: SchoolLevel, Score: 0.05666\n",
      "Feature: Ethnicity, Score: 0.02800\n",
      "Feature: YearsWorked, Score: 0.13142\n",
      "Feature: PriorDefault, Score: 0.34457\n",
      "Feature: Employed, Score: 0.05310\n",
      "Feature: CreditScore, Score: 0.11895\n",
      "Feature: DriversID, Score: 0.00697\n",
      "Feature: Citizen, Score: 0.06479\n"
     ]
    },
    {
     "data": {
      "image/png": "[encoded data removed]",
      "text/plain": [
       "<Figure size 432x288 with 1 Axes>"
      ]
     },
     "metadata": {},
     "output_type": "display_data"
    },
    {
     "name": "stdout",
     "output_type": "stream",
     "text": [
      "************************************************************\n",
      "Feature: Gender, Score: 0.01653\n",
      "Feature: Age, Score: 0.01896\n",
      "Feature: Debt, Score: 0.01904\n",
      "Feature: Married, Score: 0.04958\n",
      "Feature: BankClient, Score: 0.00706\n",
      "Feature: SchoolLevel, Score: 0.02489\n",
      "Feature: Ethnicity, Score: 0.01995\n",
      "Feature: YearsWorked, Score: 0.02601\n",
      "Feature: PriorDefault, Score: 0.60130\n",
      "Feature: Employed, Score: 0.13975\n",
      "Feature: CreditScore, Score: 0.04110\n",
      "Feature: DriversID, Score: 0.00000\n",
      "Feature: Citizen, Score: 0.03584\n"
     ]
    },
    {
     "data": {
      "image/png": "[encoded data removed]",
      "text/plain": [
       "<Figure size 432x288 with 1 Axes>"
      ]
     },
     "metadata": {},
     "output_type": "display_data"
    },
    {
     "name": "stdout",
     "output_type": "stream",
     "text": [
      "************************************************************\n",
      "Feature: Gender, Score: 0.00000\n",
      "Feature: Age, Score: 0.16000\n",
      "Feature: Debt, Score: 0.12000\n",
      "Feature: Married, Score: 0.02000\n",
      "Feature: BankClient, Score: 0.02000\n",
      "Feature: SchoolLevel, Score: 0.12000\n",
      "Feature: Ethnicity, Score: 0.02000\n",
      "Feature: YearsWorked, Score: 0.24000\n",
      "Feature: PriorDefault, Score: 0.06000\n",
      "Feature: Employed, Score: 0.00000\n",
      "Feature: CreditScore, Score: 0.12000\n",
      "Feature: DriversID, Score: 0.00000\n",
      "Feature: Citizen, Score: 0.12000\n"
     ]
    },
    {
     "data": {
      "image/png": "[encoded data removed]",
      "text/plain": [
       "<Figure size 432x288 with 1 Axes>"
      ]
     },
     "metadata": {},
     "output_type": "display_data"
    },
    {
     "name": "stdout",
     "output_type": "stream",
     "text": [
      "************************************************************\n",
      "Feature: Gender, Score: 0.00019\n",
      "Feature: Age, Score: 0.02221\n",
      "Feature: Debt, Score: 0.04344\n",
      "Feature: Married, Score: 0.01316\n",
      "Feature: BankClient, Score: 0.01913\n",
      "Feature: SchoolLevel, Score: 0.03901\n",
      "Feature: Ethnicity, Score: 0.01917\n",
      "Feature: YearsWorked, Score: 0.03896\n",
      "Feature: PriorDefault, Score: 0.72441\n",
      "Feature: Employed, Score: 0.01162\n",
      "Feature: CreditScore, Score: 0.03248\n",
      "Feature: DriversID, Score: 0.00040\n",
      "Feature: Citizen, Score: 0.03582\n"
     ]
    },
    {
     "data": {
      "image/png": "[encoded data removed]",
      "text/plain": [
       "<Figure size 432x288 with 1 Axes>"
      ]
     },
     "metadata": {},
     "output_type": "display_data"
    }
   ],
   "source": [
    "# Uncomment 3 lines below to see 4 visuals\n",
    "\n",
    "models = [rf, xgb, ada, gbc]\n",
    "for model in models:\n",
    "    feature_imp_viz(model)"
   ]
  },
  {
   "cell_type": "markdown",
   "metadata": {},
   "source": [
    "## Round 2 of model testing (non-scaled SMOTE data, default settings)"
   ]
  },
  {
   "cell_type": "code",
   "execution_count": 49,
   "metadata": {},
   "outputs": [
    {
     "name": "stdout",
     "output_type": "stream",
     "text": [
      "============================================================\n",
      "LogisticRegression\n",
      "\n",
      "Accuracy Score: 84.30493273542601\n",
      "\n",
      "Confusion matrix:\n",
      "[[89 26]\n",
      " [ 9 99]]\n",
      "\n",
      "Classification report:\n",
      "              precision    recall  f1-score   support\n",
      "\n",
      "           0       0.91      0.77      0.84       115\n",
      "           1       0.79      0.92      0.85       108\n",
      "\n",
      "    accuracy                           0.84       223\n",
      "   macro avg       0.85      0.85      0.84       223\n",
      "weighted avg       0.85      0.84      0.84       223\n",
      "\n",
      "============================================================\n",
      "RandomForestClassifier\n",
      "\n",
      "Accuracy Score: 83.40807174887892\n",
      "\n",
      "Confusion matrix:\n",
      "[[94 21]\n",
      " [16 92]]\n",
      "\n",
      "Classification report:\n",
      "              precision    recall  f1-score   support\n",
      "\n",
      "           0       0.85      0.82      0.84       115\n",
      "           1       0.81      0.85      0.83       108\n",
      "\n",
      "    accuracy                           0.83       223\n",
      "   macro avg       0.83      0.83      0.83       223\n",
      "weighted avg       0.83      0.83      0.83       223\n",
      "\n",
      "============================================================\n",
      "XGBClassifier\n",
      "\n",
      "Accuracy Score: 81.16591928251121\n",
      "\n",
      "Confusion matrix:\n",
      "[[90 25]\n",
      " [17 91]]\n",
      "\n",
      "Classification report:\n",
      "              precision    recall  f1-score   support\n",
      "\n",
      "           0       0.84      0.78      0.81       115\n",
      "           1       0.78      0.84      0.81       108\n",
      "\n",
      "    accuracy                           0.81       223\n",
      "   macro avg       0.81      0.81      0.81       223\n",
      "weighted avg       0.81      0.81      0.81       223\n",
      "\n",
      "============================================================\n",
      "AdaBoostClassifier\n",
      "\n",
      "Accuracy Score: 82.95964125560538\n",
      "\n",
      "Confusion matrix:\n",
      "[[87 28]\n",
      " [10 98]]\n",
      "\n",
      "Classification report:\n",
      "              precision    recall  f1-score   support\n",
      "\n",
      "           0       0.90      0.76      0.82       115\n",
      "           1       0.78      0.91      0.84       108\n",
      "\n",
      "    accuracy                           0.83       223\n",
      "   macro avg       0.84      0.83      0.83       223\n",
      "weighted avg       0.84      0.83      0.83       223\n",
      "\n",
      "============================================================\n",
      "GradientBoostingClassifier\n",
      "\n",
      "Accuracy Score: 82.51121076233184\n",
      "\n",
      "Confusion matrix:\n",
      "[[91 24]\n",
      " [15 93]]\n",
      "\n",
      "Classification report:\n",
      "              precision    recall  f1-score   support\n",
      "\n",
      "           0       0.86      0.79      0.82       115\n",
      "           1       0.79      0.86      0.83       108\n",
      "\n",
      "    accuracy                           0.83       223\n",
      "   macro avg       0.83      0.83      0.83       223\n",
      "weighted avg       0.83      0.83      0.83       223\n",
      "\n"
     ]
    }
   ],
   "source": [
    "classifiers = [LogisticRegression(random_state = 42, solver = 'liblinear'),\n",
    "               RandomForestClassifier(random_state = 42, n_estimators = 100),\n",
    "               XGBClassifier(random_state = 42),\n",
    "               AdaBoostClassifier(random_state = 42),\n",
    "               GradientBoostingClassifier(random_state = 42)]\n",
    "\n",
    "for clfs in classifiers:\n",
    "    clfs.fit(X_train_smote, y_train_smote)\n",
    "    name = clfs.__class__.__name__\n",
    "    scale_predict = clfs.predict(X_test_smote)\n",
    "    print(\"=\" * 60)\n",
    "    print(name)\n",
    "    print()\n",
    "    print('Accuracy Score:', accuracy_score(y_test_smote, scale_predict) * 100)\n",
    "    print()\n",
    "    print('Confusion matrix:')\n",
    "    print(confusion_matrix(y_test_smote, scale_predict))\n",
    "    print()\n",
    "    print('Classification report:')\n",
    "    print(classification_report(y_test_smote, scale_predict))"
   ]
  },
  {
   "cell_type": "markdown",
   "metadata": {},
   "source": [
    "## Round 3 of testing (GridSearch, only 2 models, cross validation 5, non-scaled data)"
   ]
  },
  {
   "cell_type": "code",
   "execution_count": 50,
   "metadata": {},
   "outputs": [
    {
     "name": "stdout",
     "output_type": "stream",
     "text": [
      "Model name: LogisticRegression\n",
      "\n",
      "Best params: {'max_iter': 50, 'multi_class': 'auto', 'random_state': 42, 'solver': 'liblinear'}\n",
      "\n",
      "5 Cross Validation Score: 89.21001926782274\n",
      "\n",
      "Prediction:\n",
      "[1 1 0 1 0 0 1 0 0 0 0 0 1 0 1 0 1 1 0 1 1 1 1 0 0 0 1 0 0 1 0 1 0 0 1 1 0\n",
      " 1 1 1 0 0 1 0 1 1 1 0 0 1 1 0 1 1 0 1 1 0 1 0 1 1 0 1 1 0 0 1 0 1 1 0 1 1\n",
      " 0 1 1 0 0 0 0 0 0 1 0 1 1 1 0 0 0 1 1 0 1 1 1 0 1 1 0 1 1 1 0 1 0 1 0 0 1\n",
      " 1 1 1 1 0 1 1 1 0 0 0 0 1 0 1 1 0 1 0 1 0 1 0 1 0 1 1 0 1 1 0 0 0 1 1 1 1\n",
      " 1 1 0 0 1 1 1 1 0 0 0 1 1 1 0 1 1 0 1 0 0 1 0 0 1 1 1 0 1 0 1 0 1 0 1 1 1\n",
      " 0 0 0 1 1 1 0 0 1 0 1 1 1 1 0 1 0 1 0 1 1 1 1 1 1 1 1 0 0 1 1 0 1 0 0 0 0\n",
      " 1]\n",
      "\n",
      "Accuracy Score: 84.30493273542601\n",
      "\n",
      "Confusion matrix:\n",
      "[[89 26]\n",
      " [ 9 99]]\n",
      "\n",
      "Classification report:\n",
      "              precision    recall  f1-score   support\n",
      "\n",
      "           0       0.91      0.77      0.84       115\n",
      "           1       0.79      0.92      0.85       108\n",
      "\n",
      "    accuracy                           0.84       223\n",
      "   macro avg       0.85      0.85      0.84       223\n",
      "weighted avg       0.85      0.84      0.84       223\n",
      "\n",
      "========================================================================================================================\n",
      "Model name: RandomForestClassifier\n",
      "\n",
      "Best params: {'criterion': 'gini', 'max_depth': None, 'min_samples_split': 4, 'n_estimators': 125, 'random_state': 42}\n",
      "\n",
      "5 Cross Validation Score: 99.22928709055877\n",
      "\n",
      "Prediction:\n",
      "[1 1 0 1 0 0 1 0 0 0 0 0 1 0 1 0 1 1 0 1 1 1 1 0 0 0 1 0 0 1 0 1 0 0 1 1 0\n",
      " 1 1 1 0 0 1 0 1 1 1 0 0 1 1 0 1 1 0 1 1 0 1 0 1 1 0 1 1 0 0 0 0 1 1 0 1 1\n",
      " 0 1 1 0 0 0 0 0 0 1 0 1 1 1 1 0 0 1 1 0 1 1 1 0 1 1 0 1 1 1 0 1 0 1 0 0 1\n",
      " 1 1 1 1 0 1 0 1 0 0 0 0 1 0 0 1 0 0 0 1 0 0 0 1 0 1 0 0 1 1 0 0 0 1 1 1 1\n",
      " 1 1 0 0 1 1 1 1 0 0 0 1 1 1 0 1 1 0 1 0 0 1 0 0 1 1 1 0 1 0 0 0 1 0 1 1 1\n",
      " 0 0 0 1 0 1 0 0 1 0 1 1 1 0 0 1 0 1 0 1 1 1 1 1 1 1 1 0 0 1 0 0 1 0 0 0 0\n",
      " 1]\n",
      "\n",
      "Accuracy Score: 83.85650224215246\n",
      "\n",
      "Confusion matrix:\n",
      "[[93 22]\n",
      " [14 94]]\n",
      "\n",
      "Classification report:\n",
      "              precision    recall  f1-score   support\n",
      "\n",
      "           0       0.87      0.81      0.84       115\n",
      "           1       0.81      0.87      0.84       108\n",
      "\n",
      "    accuracy                           0.84       223\n",
      "   macro avg       0.84      0.84      0.84       223\n",
      "weighted avg       0.84      0.84      0.84       223\n",
      "\n",
      "========================================================================================================================\n"
     ]
    }
   ],
   "source": [
    "classifier = [LogisticRegression(n_jobs = -1), RandomForestClassifier(n_jobs = -1)]\n",
    "\n",
    "log_reg_grid = {\n",
    "    'random_state' : [42],\n",
    "    'solver' : ['newton-cg', 'lbfgs', 'liblinear', 'sag', 'saga'],\n",
    "    'max_iter' : [50, 75, 100, 125, 150],\n",
    "    'multi_class' : ['auto']\n",
    "}\n",
    "\n",
    "rfc_grid = {\n",
    "    'n_estimators' : [50, 75, 100, 125, 150],\n",
    "    'criterion' : ['gini', 'entropy'],\n",
    "    'max_depth' : [None, 25, 50, 75, 100],\n",
    "    'min_samples_split' : [2, 4, 6, 8, 10],\n",
    "    'random_state' : [42]\n",
    "}\n",
    "\n",
    "param_grid_list = [log_reg_grid, rfc_grid]\n",
    "\n",
    "i = 0\n",
    "for clf in classifier:\n",
    "\n",
    "    gscv = GridSearchCV(estimator = clf, param_grid = param_grid_list[i], cv = 5)\n",
    "    gscv.fit(X_train_smote, y_train_smote)\n",
    "    i += 1\n",
    "\n",
    "    print('Model name:', clf.__class__.__name__)\n",
    "    print()\n",
    "    print('Best params:', gscv.best_params_)\n",
    "    print()\n",
    "    y_pred = gscv.predict(X_test_smote)\n",
    "    print('5 Cross Validation Score:', gscv.score(X_train_smote, y_train_smote) * 100)\n",
    "    print()\n",
    "    print('Prediction:')\n",
    "    print(y_pred)\n",
    "    print()\n",
    "    print('Accuracy Score:', accuracy_score(y_test_smote, y_pred) * 100)\n",
    "    print()\n",
    "    print('Confusion matrix:')\n",
    "    print(confusion_matrix(y_test_smote, y_pred))\n",
    "    print()\n",
    "    print('Classification report:')\n",
    "    print(classification_report(y_test_smote, y_pred))\n",
    "    print('=' * 120)"
   ]
  },
  {
   "cell_type": "code",
   "execution_count": 51,
   "metadata": {},
   "outputs": [
    {
     "name": "stdout",
     "output_type": "stream",
     "text": [
      "Model name: LogisticRegression\n",
      "\n",
      "Best params: {'max_iter': 50, 'multi_class': 'auto', 'random_state': 42, 'solver': 'liblinear'}\n",
      "\n",
      "10 Cross Validation Score: 89.21001926782274\n",
      "\n",
      "Prediction:\n",
      "[1 1 0 1 0 0 1 0 0 0 0 0 1 0 1 0 1 1 0 1 1 1 1 0 0 0 1 0 0 1 0 1 0 0 1 1 0\n",
      " 1 1 1 0 0 1 0 1 1 1 0 0 1 1 0 1 1 0 1 1 0 1 0 1 1 0 1 1 0 0 1 0 1 1 0 1 1\n",
      " 0 1 1 0 0 0 0 0 0 1 0 1 1 1 0 0 0 1 1 0 1 1 1 0 1 1 0 1 1 1 0 1 0 1 0 0 1\n",
      " 1 1 1 1 0 1 1 1 0 0 0 0 1 0 1 1 0 1 0 1 0 1 0 1 0 1 1 0 1 1 0 0 0 1 1 1 1\n",
      " 1 1 0 0 1 1 1 1 0 0 0 1 1 1 0 1 1 0 1 0 0 1 0 0 1 1 1 0 1 0 1 0 1 0 1 1 1\n",
      " 0 0 0 1 1 1 0 0 1 0 1 1 1 1 0 1 0 1 0 1 1 1 1 1 1 1 1 0 0 1 1 0 1 0 0 0 0\n",
      " 1]\n",
      "\n",
      "Accuracy Score: 84.30493273542601\n",
      "\n",
      "Confusion matrix:\n",
      "[[89 26]\n",
      " [ 9 99]]\n",
      "\n",
      "Classification report:\n",
      "              precision    recall  f1-score   support\n",
      "\n",
      "           0       0.91      0.77      0.84       115\n",
      "           1       0.79      0.92      0.85       108\n",
      "\n",
      "    accuracy                           0.84       223\n",
      "   macro avg       0.85      0.85      0.84       223\n",
      "weighted avg       0.85      0.84      0.84       223\n",
      "\n",
      "========================================================================================================================\n",
      "Model name: RandomForestClassifier\n",
      "\n",
      "Best params: {'criterion': 'entropy', 'max_depth': None, 'min_samples_split': 10, 'n_estimators': 150, 'random_state': 42}\n",
      "\n",
      "10 Cross Validation Score: 94.99036608863199\n",
      "\n",
      "Prediction:\n",
      "[1 1 0 1 0 0 1 0 0 0 0 0 1 0 1 0 1 1 0 1 1 1 1 0 0 0 1 0 0 1 0 1 0 0 1 1 0\n",
      " 1 1 1 0 0 1 0 1 1 1 0 0 1 1 0 1 1 0 1 1 0 1 0 1 1 0 1 1 0 0 0 0 1 1 0 1 1\n",
      " 0 1 1 0 0 0 0 0 0 1 0 1 1 1 1 0 0 1 1 0 1 1 1 0 1 1 0 1 1 1 0 1 0 1 0 0 1\n",
      " 1 1 1 1 0 1 0 1 0 0 0 0 1 0 0 1 0 0 0 1 0 0 0 1 0 1 0 0 1 1 0 0 0 1 1 1 1\n",
      " 1 1 0 0 1 1 1 1 0 0 0 1 1 1 0 1 1 0 1 0 0 1 0 0 1 1 1 0 1 0 1 0 1 0 1 1 1\n",
      " 0 0 0 1 0 1 0 0 1 0 1 1 1 0 0 1 0 1 0 1 1 1 1 1 1 1 1 0 0 1 0 0 1 0 0 0 0\n",
      " 1]\n",
      "\n",
      "Accuracy Score: 83.40807174887892\n",
      "\n",
      "Confusion matrix:\n",
      "[[92 23]\n",
      " [14 94]]\n",
      "\n",
      "Classification report:\n",
      "              precision    recall  f1-score   support\n",
      "\n",
      "           0       0.87      0.80      0.83       115\n",
      "           1       0.80      0.87      0.84       108\n",
      "\n",
      "    accuracy                           0.83       223\n",
      "   macro avg       0.84      0.84      0.83       223\n",
      "weighted avg       0.84      0.83      0.83       223\n",
      "\n",
      "========================================================================================================================\n"
     ]
    }
   ],
   "source": [
    "classifier = [LogisticRegression(n_jobs = -1), RandomForestClassifier(n_jobs = -1)]\n",
    "\n",
    "log_reg_grid = {\n",
    "    'random_state' : [42],\n",
    "    'solver' : ['newton-cg', 'lbfgs', 'liblinear', 'sag', 'saga'],\n",
    "    'max_iter' : [50, 75, 100, 125, 150],\n",
    "    'multi_class' : ['auto']\n",
    "}\n",
    "\n",
    "rfc_grid = {\n",
    "    'n_estimators' : [50, 75, 100, 125, 150],\n",
    "    'criterion' : ['gini', 'entropy'],\n",
    "    'max_depth' : [None, 25, 50, 75, 100],\n",
    "    'min_samples_split' : [2, 4, 6, 8, 10],\n",
    "    'random_state' : [42]\n",
    "}\n",
    "\n",
    "param_grid_list = [log_reg_grid, rfc_grid]\n",
    "\n",
    "i = 0\n",
    "for clf in classifier:\n",
    "\n",
    "    gscv = GridSearchCV(estimator = clf, param_grid = param_grid_list[i], cv = 10)\n",
    "    gscv.fit(X_train_smote, y_train_smote)\n",
    "    i += 1\n",
    "\n",
    "    print('Model name:', clf.__class__.__name__)\n",
    "    print()\n",
    "    print('Best params:', gscv.best_params_)\n",
    "    print()\n",
    "    y_pred = gscv.predict(X_test_smote)\n",
    "    print('10 Cross Validation Score:', gscv.score(X_train_smote, y_train_smote) * 100)\n",
    "    print()\n",
    "    print('Prediction:')\n",
    "    print(y_pred)\n",
    "    print()\n",
    "    print('Accuracy Score:', accuracy_score(y_test_smote, y_pred) * 100)\n",
    "    print()\n",
    "    print('Confusion matrix:')\n",
    "    print(confusion_matrix(y_test_smote, y_pred))\n",
    "    print()\n",
    "    print('Classification report:')\n",
    "    print(classification_report(y_test_smote, y_pred))\n",
    "    print('=' * 120)"
   ]
  },
  {
   "cell_type": "code",
   "execution_count": 52,
   "metadata": {},
   "outputs": [
    {
     "name": "stdout",
     "output_type": "stream",
     "text": [
      "Model name: LogisticRegression\n",
      "\n",
      "Best params: {'max_iter': 50, 'multi_class': 'auto', 'random_state': 42, 'solver': 'liblinear'}\n",
      "\n",
      "15 Cross Validation Score: 89.21001926782274\n",
      "\n",
      "Prediction:\n",
      "[1 1 0 1 0 0 1 0 0 0 0 0 1 0 1 0 1 1 0 1 1 1 1 0 0 0 1 0 0 1 0 1 0 0 1 1 0\n",
      " 1 1 1 0 0 1 0 1 1 1 0 0 1 1 0 1 1 0 1 1 0 1 0 1 1 0 1 1 0 0 1 0 1 1 0 1 1\n",
      " 0 1 1 0 0 0 0 0 0 1 0 1 1 1 0 0 0 1 1 0 1 1 1 0 1 1 0 1 1 1 0 1 0 1 0 0 1\n",
      " 1 1 1 1 0 1 1 1 0 0 0 0 1 0 1 1 0 1 0 1 0 1 0 1 0 1 1 0 1 1 0 0 0 1 1 1 1\n",
      " 1 1 0 0 1 1 1 1 0 0 0 1 1 1 0 1 1 0 1 0 0 1 0 0 1 1 1 0 1 0 1 0 1 0 1 1 1\n",
      " 0 0 0 1 1 1 0 0 1 0 1 1 1 1 0 1 0 1 0 1 1 1 1 1 1 1 1 0 0 1 1 0 1 0 0 0 0\n",
      " 1]\n",
      "\n",
      "Accuracy Score: 84.30493273542601\n",
      "\n",
      "Confusion matrix:\n",
      "[[89 26]\n",
      " [ 9 99]]\n",
      "\n",
      "Classification report:\n",
      "              precision    recall  f1-score   support\n",
      "\n",
      "           0       0.91      0.77      0.84       115\n",
      "           1       0.79      0.92      0.85       108\n",
      "\n",
      "    accuracy                           0.84       223\n",
      "   macro avg       0.85      0.85      0.84       223\n",
      "weighted avg       0.85      0.84      0.84       223\n",
      "\n",
      "========================================================================================================================\n",
      "Model name: RandomForestClassifier\n",
      "\n",
      "Best params: {'criterion': 'entropy', 'max_depth': None, 'min_samples_split': 2, 'n_estimators': 50, 'random_state': 42}\n",
      "\n",
      "15 Cross Validation Score: 100.0\n",
      "\n",
      "Prediction:\n",
      "[1 1 0 1 0 0 1 0 0 0 0 0 1 0 1 0 1 1 0 1 1 1 1 0 0 0 1 0 0 1 1 1 0 0 0 1 0\n",
      " 1 1 1 0 0 1 0 1 1 1 0 0 1 1 0 1 1 0 1 1 0 1 0 1 1 0 1 1 0 0 0 0 0 1 0 1 1\n",
      " 0 1 1 0 0 0 0 0 0 1 0 1 1 1 1 0 0 1 1 0 1 1 1 0 1 1 0 1 1 1 0 1 0 1 0 0 1\n",
      " 1 1 1 1 0 1 0 1 0 0 0 0 1 0 1 0 0 0 0 1 0 0 0 1 0 1 0 0 1 1 0 0 0 1 1 1 1\n",
      " 1 1 0 0 1 1 1 1 0 0 0 1 1 1 0 1 1 0 1 0 0 1 0 0 1 1 1 0 1 0 1 0 1 0 1 1 1\n",
      " 0 0 0 1 0 1 0 0 1 0 1 1 1 0 0 1 0 1 0 1 1 1 1 0 1 1 1 0 0 1 0 0 1 0 0 0 0\n",
      " 1]\n",
      "\n",
      "Accuracy Score: 82.51121076233184\n",
      "\n",
      "Confusion matrix:\n",
      "[[92 23]\n",
      " [16 92]]\n",
      "\n",
      "Classification report:\n",
      "              precision    recall  f1-score   support\n",
      "\n",
      "           0       0.85      0.80      0.83       115\n",
      "           1       0.80      0.85      0.83       108\n",
      "\n",
      "    accuracy                           0.83       223\n",
      "   macro avg       0.83      0.83      0.83       223\n",
      "weighted avg       0.83      0.83      0.83       223\n",
      "\n",
      "========================================================================================================================\n"
     ]
    }
   ],
   "source": [
    "classifier = [LogisticRegression(n_jobs = -1), RandomForestClassifier(n_jobs = -1)]\n",
    "\n",
    "log_reg_grid = {\n",
    "    'random_state' : [42],\n",
    "    'solver' : ['newton-cg', 'lbfgs', 'liblinear', 'sag', 'saga'],\n",
    "    'max_iter' : [50, 75, 100, 125, 150],\n",
    "    'multi_class' : ['auto']\n",
    "}\n",
    "\n",
    "rfc_grid = {\n",
    "    'n_estimators' : [50, 75, 100, 125, 150],\n",
    "    'criterion' : ['gini', 'entropy'],\n",
    "    'max_depth' : [None, 25, 50, 75, 100],\n",
    "    'min_samples_split' : [2, 4, 6, 8, 10],\n",
    "    'random_state' : [42]\n",
    "}\n",
    "\n",
    "param_grid_list = [log_reg_grid, rfc_grid]\n",
    "\n",
    "i = 0\n",
    "for clf in classifier:\n",
    "\n",
    "    gscv = GridSearchCV(estimator = clf, param_grid = param_grid_list[i], cv = 15)\n",
    "    gscv.fit(X_train_smote, y_train_smote)\n",
    "    i += 1\n",
    "\n",
    "    print('Model name:', clf.__class__.__name__)\n",
    "    print()\n",
    "    print('Best params:', gscv.best_params_)\n",
    "    print()\n",
    "    y_pred = gscv.predict(X_test_smote)\n",
    "    print('15 Cross Validation Score:', gscv.score(X_train_smote, y_train_smote) * 100)\n",
    "    print()\n",
    "    print('Prediction:')\n",
    "    print(y_pred)\n",
    "    print()\n",
    "    print('Accuracy Score:', accuracy_score(y_test_smote, y_pred) * 100)\n",
    "    print()\n",
    "    print('Confusion matrix:')\n",
    "    print(confusion_matrix(y_test_smote, y_pred))\n",
    "    print()\n",
    "    print('Classification report:')\n",
    "    print(classification_report(y_test_smote, y_pred))\n",
    "    print('=' * 120)"
   ]
  },
  {
   "cell_type": "code",
   "execution_count": 53,
   "metadata": {},
   "outputs": [
    {
     "name": "stdout",
     "output_type": "stream",
     "text": [
      "Model name: LogisticRegression\n",
      "\n",
      "Best params: {'max_iter': 50, 'multi_class': 'auto', 'random_state': 42, 'solver': 'liblinear'}\n",
      "\n",
      "20 Cross Validation Score: 89.21001926782274\n",
      "\n",
      "Prediction:\n",
      "[1 1 0 1 0 0 1 0 0 0 0 0 1 0 1 0 1 1 0 1 1 1 1 0 0 0 1 0 0 1 0 1 0 0 1 1 0\n",
      " 1 1 1 0 0 1 0 1 1 1 0 0 1 1 0 1 1 0 1 1 0 1 0 1 1 0 1 1 0 0 1 0 1 1 0 1 1\n",
      " 0 1 1 0 0 0 0 0 0 1 0 1 1 1 0 0 0 1 1 0 1 1 1 0 1 1 0 1 1 1 0 1 0 1 0 0 1\n",
      " 1 1 1 1 0 1 1 1 0 0 0 0 1 0 1 1 0 1 0 1 0 1 0 1 0 1 1 0 1 1 0 0 0 1 1 1 1\n",
      " 1 1 0 0 1 1 1 1 0 0 0 1 1 1 0 1 1 0 1 0 0 1 0 0 1 1 1 0 1 0 1 0 1 0 1 1 1\n",
      " 0 0 0 1 1 1 0 0 1 0 1 1 1 1 0 1 0 1 0 1 1 1 1 1 1 1 1 0 0 1 1 0 1 0 0 0 0\n",
      " 1]\n",
      "\n",
      "Accuracy Score: 84.30493273542601\n",
      "\n",
      "Confusion matrix:\n",
      "[[89 26]\n",
      " [ 9 99]]\n",
      "\n",
      "Classification report:\n",
      "              precision    recall  f1-score   support\n",
      "\n",
      "           0       0.91      0.77      0.84       115\n",
      "           1       0.79      0.92      0.85       108\n",
      "\n",
      "    accuracy                           0.84       223\n",
      "   macro avg       0.85      0.85      0.84       223\n",
      "weighted avg       0.85      0.84      0.84       223\n",
      "\n",
      "========================================================================================================================\n",
      "Model name: RandomForestClassifier\n",
      "\n",
      "Best params: {'criterion': 'entropy', 'max_depth': None, 'min_samples_split': 8, 'n_estimators': 150, 'random_state': 42}\n",
      "\n",
      "20 Cross Validation Score: 95.76107899807322\n",
      "\n",
      "Prediction:\n",
      "[1 1 0 1 0 0 1 0 0 0 0 0 1 0 1 0 1 1 0 1 1 1 1 0 0 0 1 0 0 1 0 1 0 0 1 1 0\n",
      " 1 1 1 0 0 1 0 1 1 1 0 0 1 1 0 1 1 0 1 1 0 1 0 1 1 0 1 1 0 0 0 0 1 1 0 1 1\n",
      " 0 1 1 0 0 0 0 0 0 1 0 1 1 1 1 0 0 1 1 0 1 1 1 0 1 1 0 1 1 1 0 1 0 1 0 0 1\n",
      " 1 1 1 1 0 1 0 1 0 0 0 0 1 0 1 1 0 0 0 1 0 0 0 1 0 1 0 0 1 1 0 0 0 1 1 1 1\n",
      " 1 1 0 0 1 1 1 1 0 0 0 1 1 1 0 1 1 0 1 0 0 1 0 0 1 1 1 0 1 0 1 0 1 0 1 1 1\n",
      " 0 0 0 1 0 1 0 0 1 0 1 1 1 0 0 1 0 1 0 1 1 1 1 1 1 1 1 0 0 1 0 0 1 0 0 0 0\n",
      " 1]\n",
      "\n",
      "Accuracy Score: 83.85650224215246\n",
      "\n",
      "Confusion matrix:\n",
      "[[92 23]\n",
      " [13 95]]\n",
      "\n",
      "Classification report:\n",
      "              precision    recall  f1-score   support\n",
      "\n",
      "           0       0.88      0.80      0.84       115\n",
      "           1       0.81      0.88      0.84       108\n",
      "\n",
      "    accuracy                           0.84       223\n",
      "   macro avg       0.84      0.84      0.84       223\n",
      "weighted avg       0.84      0.84      0.84       223\n",
      "\n",
      "========================================================================================================================\n"
     ]
    }
   ],
   "source": [
    "classifier = [LogisticRegression(n_jobs = -1), RandomForestClassifier(n_jobs = -1)]\n",
    "\n",
    "log_reg_grid = {\n",
    "    'random_state' : [42],\n",
    "    'solver' : ['newton-cg', 'lbfgs', 'liblinear', 'sag', 'saga'],\n",
    "    'max_iter' : [50, 75, 100, 125, 150],\n",
    "    'multi_class' : ['auto']\n",
    "}\n",
    "\n",
    "rfc_grid = {\n",
    "    'n_estimators' : [50, 75, 100, 125, 150],\n",
    "    'criterion' : ['gini', 'entropy'],\n",
    "    'max_depth' : [None, 25, 50, 75, 100],\n",
    "    'min_samples_split' : [2, 4, 6, 8, 10],\n",
    "    'random_state' : [42]\n",
    "}\n",
    "\n",
    "param_grid_list = [log_reg_grid, rfc_grid]\n",
    "\n",
    "i = 0\n",
    "for clf in classifier:\n",
    "\n",
    "    gscv = GridSearchCV(estimator = clf, param_grid = param_grid_list[i], cv = 20)\n",
    "    gscv.fit(X_train_smote, y_train_smote)\n",
    "    i += 1\n",
    "\n",
    "    print('Model name:', clf.__class__.__name__)\n",
    "    print()\n",
    "    print('Best params:', gscv.best_params_)\n",
    "    print()\n",
    "    y_pred = gscv.predict(X_test_smote)\n",
    "    print('20 Cross Validation Score:', gscv.score(X_train_smote, y_train_smote) * 100)\n",
    "    print()\n",
    "    print('Prediction:')\n",
    "    print(y_pred)\n",
    "    print()\n",
    "    print('Accuracy Score:', accuracy_score(y_test_smote, y_pred) * 100)\n",
    "    print()\n",
    "    print('Confusion matrix:')\n",
    "    print(confusion_matrix(y_test_smote, y_pred))\n",
    "    print()\n",
    "    print('Classification report:')\n",
    "    print(classification_report(y_test_smote, y_pred))\n",
    "    print('=' * 120)"
   ]
  }
 ],
 "metadata": {
  "kernelspec": {
   "display_name": "Python [conda env:learn-env] *",
   "language": "python",
   "name": "conda-env-learn-env-py"
  },
  "language_info": {
   "codemirror_mode": {
    "name": "ipython",
    "version": 3
   },
   "file_extension": ".py",
   "mimetype": "text/x-python",
   "name": "python",
   "nbconvert_exporter": "python",
   "pygments_lexer": "ipython3",
   "version": "3.6.9"
  }
 },
 "nbformat": 4,
 "nbformat_minor": 4
}
