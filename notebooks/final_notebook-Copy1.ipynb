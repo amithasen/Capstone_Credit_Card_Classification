{
 "cells": [
  {
   "cell_type": "markdown",
   "metadata": {},
   "source": [
    "# Imports"
   ]
  },
  {
   "cell_type": "code",
   "execution_count": 1,
   "metadata": {},
   "outputs": [
    {
     "name": "stderr",
     "output_type": "stream",
     "text": [
      "/Users/calvintirrell/opt/anaconda3/envs/learn-env/lib/python3.6/site-packages/statsmodels/tools/_testing.py:19: FutureWarning: pandas.util.testing is deprecated. Use the functions in the public API at pandas.testing instead.\n",
      "  import pandas.util.testing as tm\n",
      "/Users/calvintirrell/opt/anaconda3/envs/learn-env/lib/python3.6/site-packages/sklearn/externals/six.py:31: DeprecationWarning: The module is deprecated in version 0.21 and will be removed in version 0.23 since we've dropped support for Python 2.7. Please rely on the official version of six (https://pypi.org/project/six/).\n",
      "  \"(https://pypi.org/project/six/).\", DeprecationWarning)\n"
     ]
    }
   ],
   "source": [
    "import numpy as np\n",
    "import pandas as pd;\n",
    "import seaborn as sns\n",
    "import matplotlib.pyplot as plt\n",
    "from sklearn.linear_model import LogisticRegression\n",
    "from sklearn.ensemble import RandomForestClassifier, AdaBoostClassifier, GradientBoostingClassifier\n",
    "from xgboost import XGBClassifier\n",
    "from sklearn import tree\n",
    "from sklearn.externals.six import StringIO\n",
    "from IPython.display import Image\n",
    "from sklearn.tree import export_graphviz\n",
    "import pydotplus\n",
    "from sklearn.preprocessing import LabelEncoder, StandardScaler\n",
    "from sklearn.model_selection import train_test_split, GridSearchCV\n",
    "from sklearn.metrics import classification_report, confusion_matrix, accuracy_score\n",
    "from sklearn.feature_selection import SelectKBest, chi2\n",
    "import pickle\n",
    "%matplotlib inline\n",
    "import warnings\n",
    "warnings.filterwarnings(\"ignore\")"
   ]
  },
  {
   "cell_type": "markdown",
   "metadata": {},
   "source": [
    "# Load data"
   ]
  },
  {
   "cell_type": "code",
   "execution_count": 2,
   "metadata": {},
   "outputs": [],
   "source": [
    "data = pd.read_csv(\"../data/credit_approval.csv\")"
   ]
  },
  {
   "cell_type": "markdown",
   "metadata": {},
   "source": [
    "# Inspect data"
   ]
  },
  {
   "cell_type": "code",
   "execution_count": 3,
   "metadata": {},
   "outputs": [],
   "source": [
    "# data.head()"
   ]
  },
  {
   "cell_type": "code",
   "execution_count": 4,
   "metadata": {},
   "outputs": [],
   "source": [
    "# data.shape"
   ]
  },
  {
   "cell_type": "code",
   "execution_count": 5,
   "metadata": {},
   "outputs": [],
   "source": [
    "# data.info()"
   ]
  },
  {
   "cell_type": "code",
   "execution_count": 6,
   "metadata": {},
   "outputs": [],
   "source": [
    "# data.describe()"
   ]
  },
  {
   "cell_type": "markdown",
   "metadata": {},
   "source": [
    "# Data Cleaning and Processing"
   ]
  },
  {
   "cell_type": "markdown",
   "metadata": {},
   "source": [
    "## Manage blank, null & nan values"
   ]
  },
  {
   "cell_type": "code",
   "execution_count": 7,
   "metadata": {},
   "outputs": [],
   "source": [
    "# Replace (impute) missing values (in numerical columns) with mean value\n",
    "data.fillna(data.mean(), inplace = True)"
   ]
  },
  {
   "cell_type": "code",
   "execution_count": 8,
   "metadata": {},
   "outputs": [],
   "source": [
    "# data.info()"
   ]
  },
  {
   "cell_type": "markdown",
   "metadata": {},
   "source": [
    "## Rename Columns"
   ]
  },
  {
   "cell_type": "code",
   "execution_count": 9,
   "metadata": {},
   "outputs": [
    {
     "data": {
      "text/plain": [
       "Index(['A1', 'A2', 'A3', 'A4', 'A5', 'A6', 'A7', 'A8', 'A9', 'A10', 'A11',\n",
       "       'A12', 'A13', 'A14', 'A15', 'class'],\n",
       "      dtype='object')"
      ]
     },
     "execution_count": 9,
     "metadata": {},
     "output_type": "execute_result"
    }
   ],
   "source": [
    "data.columns"
   ]
  },
  {
   "cell_type": "code",
   "execution_count": 10,
   "metadata": {},
   "outputs": [],
   "source": [
    "data.rename(columns = {'A1':'Gender','A2':'Age','A3':'Debt',\n",
    "                         'A4':'Married','A5':'BankClient',\n",
    "                         'A6':'SchoolLevel','A7':'Ethnicity',\n",
    "                        'A8':'YearsWorked','A9':'PriorDefault',\n",
    "                         'A10':'Employed','A11':'CreditScore',\n",
    "                         'A12':'DriversID','A13':'Citizen',\n",
    "                        'A14':'ZipCode','A15':'Income','class':'Approval'\n",
    "                        }, inplace = True)"
   ]
  },
  {
   "cell_type": "code",
   "execution_count": 11,
   "metadata": {},
   "outputs": [
    {
     "data": {
      "text/plain": [
       "Index(['Gender', 'Age', 'Debt', 'Married', 'BankClient', 'SchoolLevel',\n",
       "       'Ethnicity', 'YearsWorked', 'PriorDefault', 'Employed', 'CreditScore',\n",
       "       'DriversID', 'Citizen', 'ZipCode', 'Income', 'Approval'],\n",
       "      dtype='object')"
      ]
     },
     "execution_count": 11,
     "metadata": {},
     "output_type": "execute_result"
    }
   ],
   "source": [
    "data.columns"
   ]
  },
  {
   "cell_type": "markdown",
   "metadata": {},
   "source": [
    "## Convert data to a useable format"
   ]
  },
  {
   "cell_type": "code",
   "execution_count": 12,
   "metadata": {},
   "outputs": [
    {
     "data": {
      "text/plain": [
       "0    b\n",
       "1    a\n",
       "2    a\n",
       "3    b\n",
       "4    b\n",
       "Name: Gender, dtype: object"
      ]
     },
     "execution_count": 12,
     "metadata": {},
     "output_type": "execute_result"
    }
   ],
   "source": [
    "data['Gender'].head()"
   ]
  },
  {
   "cell_type": "markdown",
   "metadata": {},
   "source": [
    "## For now just going to drop blank, null, nan values"
   ]
  },
  {
   "cell_type": "code",
   "execution_count": 13,
   "metadata": {},
   "outputs": [],
   "source": [
    "data.dropna(inplace = True)"
   ]
  },
  {
   "cell_type": "code",
   "execution_count": 14,
   "metadata": {},
   "outputs": [],
   "source": [
    "# data.info()"
   ]
  },
  {
   "cell_type": "code",
   "execution_count": 15,
   "metadata": {},
   "outputs": [
    {
     "data": {
      "text/plain": [
       "0    0\n",
       "1    1\n",
       "2    1\n",
       "3    0\n",
       "4    0\n",
       "Name: Gender, dtype: int64"
      ]
     },
     "execution_count": 15,
     "metadata": {},
     "output_type": "execute_result"
    }
   ],
   "source": [
    "# 0 = Female, 1 = Male\n",
    "data['Gender'] = data['Gender'].replace(['a','b'],[1,0]).apply(np.int64)\n",
    "data['Gender'].head()"
   ]
  },
  {
   "cell_type": "code",
   "execution_count": 16,
   "metadata": {},
   "outputs": [],
   "source": [
    "# data.head()"
   ]
  },
  {
   "cell_type": "markdown",
   "metadata": {},
   "source": [
    "## Age should be whole numbers, not decimals"
   ]
  },
  {
   "cell_type": "code",
   "execution_count": 17,
   "metadata": {},
   "outputs": [
    {
     "data": {
      "text/plain": [
       "0    30\n",
       "1    58\n",
       "2    24\n",
       "3    27\n",
       "4    20\n",
       "Name: Age, dtype: int64"
      ]
     },
     "execution_count": 17,
     "metadata": {},
     "output_type": "execute_result"
    }
   ],
   "source": [
    "data['Age'] = data['Age'].apply(np.int64)\n",
    "data['Age'].head()"
   ]
  },
  {
   "cell_type": "markdown",
   "metadata": {},
   "source": [
    "## Values of 'u', 'y', 'l' aren't helpful - change with LabelEncoder()"
   ]
  },
  {
   "cell_type": "code",
   "execution_count": 18,
   "metadata": {},
   "outputs": [
    {
     "data": {
      "text/plain": [
       "u    510\n",
       "y    159\n",
       "l      2\n",
       "Name: Married, dtype: int64"
      ]
     },
     "execution_count": 18,
     "metadata": {},
     "output_type": "execute_result"
    }
   ],
   "source": [
    "data['Married'].value_counts()"
   ]
  },
  {
   "cell_type": "markdown",
   "metadata": {},
   "source": [
    "## Change 'Approval' column values (+/- aren't useful)"
   ]
  },
  {
   "cell_type": "code",
   "execution_count": 19,
   "metadata": {},
   "outputs": [
    {
     "data": {
      "text/plain": [
       "0    +\n",
       "1    +\n",
       "2    +\n",
       "3    +\n",
       "4    +\n",
       "Name: Approval, dtype: object"
      ]
     },
     "execution_count": 19,
     "metadata": {},
     "output_type": "execute_result"
    }
   ],
   "source": [
    "data['Approval'].head()"
   ]
  },
  {
   "cell_type": "code",
   "execution_count": 20,
   "metadata": {},
   "outputs": [
    {
     "name": "stdout",
     "output_type": "stream",
     "text": [
      "0    1\n",
      "1    1\n",
      "2    1\n",
      "3    1\n",
      "4    1\n",
      "Name: Approval, dtype: int64\n",
      "685    0\n",
      "686    0\n",
      "687    0\n",
      "688    0\n",
      "689    0\n",
      "Name: Approval, dtype: int64\n"
     ]
    }
   ],
   "source": [
    "# 0 = Not Approved, 1 = Approved\n",
    "data['Approval'] = data['Approval'].replace(['+','-'],[1,0]).apply(np.int64)\n",
    "print(data['Approval'].head())\n",
    "print(data['Approval'].tail())"
   ]
  },
  {
   "cell_type": "markdown",
   "metadata": {},
   "source": [
    "# Look into each column's specific data"
   ]
  },
  {
   "cell_type": "code",
   "execution_count": 21,
   "metadata": {},
   "outputs": [],
   "source": [
    "# 'Gender', 'Age', 'Debt', 'Married', 'BankCustomer', 'EducationLevel',\n",
    "# 'Ethnicity', 'YearsEmployed', 'PriorDefault', 'Employed', 'CreditScore',\n",
    "# 'DriversLicense', 'Citizen', 'ZipCode', 'Income', 'Approval'\n",
    "\n",
    "# for col in data.columns:\n",
    "#     print(data[col].value_counts())\n",
    "#     print()"
   ]
  },
  {
   "cell_type": "markdown",
   "metadata": {},
   "source": [
    "## Change (encode) non-numerical values to numerical values"
   ]
  },
  {
   "cell_type": "code",
   "execution_count": 22,
   "metadata": {},
   "outputs": [],
   "source": [
    "# change this to one hot encoder ----------\n",
    "\n",
    "le = LabelEncoder()\n",
    "\n",
    "for col in data:\n",
    "    if data[col].dtypes == 'object':\n",
    "        data[col] = le.fit_transform(data[col])"
   ]
  },
  {
   "cell_type": "code",
   "execution_count": 23,
   "metadata": {},
   "outputs": [
    {
     "data": {
      "text/html": [
       "<div>\n",
       "<style scoped>\n",
       "    .dataframe tbody tr th:only-of-type {\n",
       "        vertical-align: middle;\n",
       "    }\n",
       "\n",
       "    .dataframe tbody tr th {\n",
       "        vertical-align: top;\n",
       "    }\n",
       "\n",
       "    .dataframe thead th {\n",
       "        text-align: right;\n",
       "    }\n",
       "</style>\n",
       "<table border=\"1\" class=\"dataframe\">\n",
       "  <thead>\n",
       "    <tr style=\"text-align: right;\">\n",
       "      <th></th>\n",
       "      <th>Gender</th>\n",
       "      <th>Age</th>\n",
       "      <th>Debt</th>\n",
       "      <th>Married</th>\n",
       "      <th>BankClient</th>\n",
       "      <th>SchoolLevel</th>\n",
       "      <th>Ethnicity</th>\n",
       "      <th>YearsWorked</th>\n",
       "      <th>PriorDefault</th>\n",
       "      <th>Employed</th>\n",
       "      <th>CreditScore</th>\n",
       "      <th>DriversID</th>\n",
       "      <th>Citizen</th>\n",
       "      <th>ZipCode</th>\n",
       "      <th>Income</th>\n",
       "      <th>Approval</th>\n",
       "    </tr>\n",
       "  </thead>\n",
       "  <tbody>\n",
       "    <tr>\n",
       "      <th>680</th>\n",
       "      <td>0</td>\n",
       "      <td>19</td>\n",
       "      <td>0.290</td>\n",
       "      <td>1</td>\n",
       "      <td>0</td>\n",
       "      <td>8</td>\n",
       "      <td>7</td>\n",
       "      <td>0.290</td>\n",
       "      <td>0</td>\n",
       "      <td>0</td>\n",
       "      <td>0</td>\n",
       "      <td>0</td>\n",
       "      <td>0</td>\n",
       "      <td>280.0</td>\n",
       "      <td>364</td>\n",
       "      <td>0</td>\n",
       "    </tr>\n",
       "    <tr>\n",
       "      <th>681</th>\n",
       "      <td>0</td>\n",
       "      <td>27</td>\n",
       "      <td>1.000</td>\n",
       "      <td>2</td>\n",
       "      <td>2</td>\n",
       "      <td>3</td>\n",
       "      <td>3</td>\n",
       "      <td>3.000</td>\n",
       "      <td>0</td>\n",
       "      <td>0</td>\n",
       "      <td>0</td>\n",
       "      <td>0</td>\n",
       "      <td>0</td>\n",
       "      <td>176.0</td>\n",
       "      <td>537</td>\n",
       "      <td>0</td>\n",
       "    </tr>\n",
       "    <tr>\n",
       "      <th>682</th>\n",
       "      <td>0</td>\n",
       "      <td>17</td>\n",
       "      <td>3.290</td>\n",
       "      <td>1</td>\n",
       "      <td>0</td>\n",
       "      <td>6</td>\n",
       "      <td>7</td>\n",
       "      <td>0.335</td>\n",
       "      <td>0</td>\n",
       "      <td>0</td>\n",
       "      <td>0</td>\n",
       "      <td>1</td>\n",
       "      <td>0</td>\n",
       "      <td>140.0</td>\n",
       "      <td>2</td>\n",
       "      <td>0</td>\n",
       "    </tr>\n",
       "    <tr>\n",
       "      <th>683</th>\n",
       "      <td>0</td>\n",
       "      <td>36</td>\n",
       "      <td>0.750</td>\n",
       "      <td>2</td>\n",
       "      <td>2</td>\n",
       "      <td>3</td>\n",
       "      <td>7</td>\n",
       "      <td>0.585</td>\n",
       "      <td>0</td>\n",
       "      <td>0</td>\n",
       "      <td>0</td>\n",
       "      <td>0</td>\n",
       "      <td>0</td>\n",
       "      <td>240.0</td>\n",
       "      <td>3</td>\n",
       "      <td>0</td>\n",
       "    </tr>\n",
       "    <tr>\n",
       "      <th>684</th>\n",
       "      <td>0</td>\n",
       "      <td>40</td>\n",
       "      <td>3.290</td>\n",
       "      <td>1</td>\n",
       "      <td>0</td>\n",
       "      <td>9</td>\n",
       "      <td>7</td>\n",
       "      <td>3.500</td>\n",
       "      <td>0</td>\n",
       "      <td>0</td>\n",
       "      <td>0</td>\n",
       "      <td>1</td>\n",
       "      <td>2</td>\n",
       "      <td>400.0</td>\n",
       "      <td>0</td>\n",
       "      <td>0</td>\n",
       "    </tr>\n",
       "    <tr>\n",
       "      <th>685</th>\n",
       "      <td>0</td>\n",
       "      <td>21</td>\n",
       "      <td>10.085</td>\n",
       "      <td>2</td>\n",
       "      <td>2</td>\n",
       "      <td>4</td>\n",
       "      <td>3</td>\n",
       "      <td>1.250</td>\n",
       "      <td>0</td>\n",
       "      <td>0</td>\n",
       "      <td>0</td>\n",
       "      <td>0</td>\n",
       "      <td>0</td>\n",
       "      <td>260.0</td>\n",
       "      <td>0</td>\n",
       "      <td>0</td>\n",
       "    </tr>\n",
       "    <tr>\n",
       "      <th>686</th>\n",
       "      <td>1</td>\n",
       "      <td>22</td>\n",
       "      <td>0.750</td>\n",
       "      <td>1</td>\n",
       "      <td>0</td>\n",
       "      <td>1</td>\n",
       "      <td>7</td>\n",
       "      <td>2.000</td>\n",
       "      <td>0</td>\n",
       "      <td>1</td>\n",
       "      <td>2</td>\n",
       "      <td>1</td>\n",
       "      <td>0</td>\n",
       "      <td>200.0</td>\n",
       "      <td>394</td>\n",
       "      <td>0</td>\n",
       "    </tr>\n",
       "    <tr>\n",
       "      <th>687</th>\n",
       "      <td>1</td>\n",
       "      <td>25</td>\n",
       "      <td>13.500</td>\n",
       "      <td>2</td>\n",
       "      <td>2</td>\n",
       "      <td>5</td>\n",
       "      <td>2</td>\n",
       "      <td>2.000</td>\n",
       "      <td>0</td>\n",
       "      <td>1</td>\n",
       "      <td>1</td>\n",
       "      <td>1</td>\n",
       "      <td>0</td>\n",
       "      <td>200.0</td>\n",
       "      <td>1</td>\n",
       "      <td>0</td>\n",
       "    </tr>\n",
       "    <tr>\n",
       "      <th>688</th>\n",
       "      <td>0</td>\n",
       "      <td>17</td>\n",
       "      <td>0.205</td>\n",
       "      <td>1</td>\n",
       "      <td>0</td>\n",
       "      <td>0</td>\n",
       "      <td>7</td>\n",
       "      <td>0.040</td>\n",
       "      <td>0</td>\n",
       "      <td>0</td>\n",
       "      <td>0</td>\n",
       "      <td>0</td>\n",
       "      <td>0</td>\n",
       "      <td>280.0</td>\n",
       "      <td>750</td>\n",
       "      <td>0</td>\n",
       "    </tr>\n",
       "    <tr>\n",
       "      <th>689</th>\n",
       "      <td>0</td>\n",
       "      <td>35</td>\n",
       "      <td>3.375</td>\n",
       "      <td>1</td>\n",
       "      <td>0</td>\n",
       "      <td>1</td>\n",
       "      <td>3</td>\n",
       "      <td>8.290</td>\n",
       "      <td>0</td>\n",
       "      <td>0</td>\n",
       "      <td>0</td>\n",
       "      <td>1</td>\n",
       "      <td>0</td>\n",
       "      <td>0.0</td>\n",
       "      <td>0</td>\n",
       "      <td>0</td>\n",
       "    </tr>\n",
       "  </tbody>\n",
       "</table>\n",
       "</div>"
      ],
      "text/plain": [
       "     Gender  Age    Debt  Married  BankClient  SchoolLevel  Ethnicity  \\\n",
       "680       0   19   0.290        1           0            8          7   \n",
       "681       0   27   1.000        2           2            3          3   \n",
       "682       0   17   3.290        1           0            6          7   \n",
       "683       0   36   0.750        2           2            3          7   \n",
       "684       0   40   3.290        1           0            9          7   \n",
       "685       0   21  10.085        2           2            4          3   \n",
       "686       1   22   0.750        1           0            1          7   \n",
       "687       1   25  13.500        2           2            5          2   \n",
       "688       0   17   0.205        1           0            0          7   \n",
       "689       0   35   3.375        1           0            1          3   \n",
       "\n",
       "     YearsWorked  PriorDefault  Employed  CreditScore  DriversID  Citizen  \\\n",
       "680        0.290             0         0            0          0        0   \n",
       "681        3.000             0         0            0          0        0   \n",
       "682        0.335             0         0            0          1        0   \n",
       "683        0.585             0         0            0          0        0   \n",
       "684        3.500             0         0            0          1        2   \n",
       "685        1.250             0         0            0          0        0   \n",
       "686        2.000             0         1            2          1        0   \n",
       "687        2.000             0         1            1          1        0   \n",
       "688        0.040             0         0            0          0        0   \n",
       "689        8.290             0         0            0          1        0   \n",
       "\n",
       "     ZipCode  Income  Approval  \n",
       "680    280.0     364         0  \n",
       "681    176.0     537         0  \n",
       "682    140.0       2         0  \n",
       "683    240.0       3         0  \n",
       "684    400.0       0         0  \n",
       "685    260.0       0         0  \n",
       "686    200.0     394         0  \n",
       "687    200.0       1         0  \n",
       "688    280.0     750         0  \n",
       "689      0.0       0         0  "
      ]
     },
     "execution_count": 23,
     "metadata": {},
     "output_type": "execute_result"
    }
   ],
   "source": [
    "data.tail(10)"
   ]
  },
  {
   "cell_type": "code",
   "execution_count": 24,
   "metadata": {},
   "outputs": [],
   "source": [
    "data2 = data.copy()"
   ]
  },
  {
   "cell_type": "markdown",
   "metadata": {},
   "source": [
    "## Feature correlations"
   ]
  },
  {
   "cell_type": "code",
   "execution_count": 25,
   "metadata": {},
   "outputs": [],
   "source": [
    "# correlations = data.corr()\n",
    "# f, ax = plt.subplots(figsize = (12, 9))\n",
    "\n",
    "# mask = np.zeros_like(correlations, dtype = np.bool)\n",
    "# mask[np.triu_indices_from(mask)] = True\n",
    "\n",
    "# heatmap_one = sns.heatmap(correlations, cmap = 'Reds', mask = mask)\n",
    "# print(heatmap_one)\n",
    "\n",
    "# Save visual as png file\n",
    "# fig = heatmap_one.get_figure()\n",
    "# fig.savefig(\"output.png\")"
   ]
  },
  {
   "cell_type": "markdown",
   "metadata": {},
   "source": [
    "## Subset of data with significant correlation"
   ]
  },
  {
   "cell_type": "code",
   "execution_count": 26,
   "metadata": {},
   "outputs": [],
   "source": [
    "# cols = ['Age', 'Debt', 'SchoolLevel', 'YearsWorked', 'PriorDefault',\n",
    "#         'Employed', 'CreditScore', 'Income', 'Approval']\n",
    "\n",
    "# sig_corr = data[cols].corr()\n",
    "# f, ax = plt.subplots(figsize = (12, 9))\n",
    "\n",
    "# mask = np.zeros_like(sig_corr, dtype = np.bool)\n",
    "# mask[np.triu_indices_from(mask)] = True\n",
    "\n",
    "# sns.heatmap(sig_corr, cmap = 'Reds', mask = mask)"
   ]
  },
  {
   "cell_type": "markdown",
   "metadata": {},
   "source": [
    "## Subset of data with most significant correlation"
   ]
  },
  {
   "cell_type": "code",
   "execution_count": 27,
   "metadata": {},
   "outputs": [],
   "source": [
    "# # These columns are my best guess at the most/best important\n",
    "# # features for credit card application approval\n",
    "# cols2 = ['Debt', 'YearsWorked', 'PriorDefault', 'Employed',\n",
    "#         'CreditScore', 'Income', 'Approval']\n",
    "\n",
    "# m_sig_corr = data[cols2].corr()\n",
    "# f, ax = plt.subplots(figsize = (12, 9))\n",
    "\n",
    "# mask = np.zeros_like(m_sig_corr, dtype = np.bool)\n",
    "# mask[np.triu_indices_from(mask)] = True\n",
    "\n",
    "# sns.heatmap(m_sig_corr, cmap ='Reds', mask = mask)"
   ]
  },
  {
   "cell_type": "markdown",
   "metadata": {},
   "source": [
    "# Final subset of data pairplot"
   ]
  },
  {
   "cell_type": "code",
   "execution_count": 28,
   "metadata": {},
   "outputs": [],
   "source": [
    "# sns.set()\n",
    "# cols3 = ['Debt', 'YearsWorked', 'PriorDefault', 'Employed',\n",
    "#         'CreditScore', 'Income']\n",
    "# sns.pairplot(data[cols3])\n",
    "# plt.show()"
   ]
  },
  {
   "cell_type": "markdown",
   "metadata": {},
   "source": [
    "## Data subset distributions"
   ]
  },
  {
   "cell_type": "code",
   "execution_count": 29,
   "metadata": {},
   "outputs": [],
   "source": [
    "# cols4 = ['Debt', 'YearsWorked', 'PriorDefault', 'Employed',\n",
    "#         'CreditScore', 'Income']\n",
    "\n",
    "# def plotDistPlot(col):\n",
    "#     sns.distplot(col)\n",
    "#     plt.show()\n",
    "    \n",
    "    \n",
    "# for col in cols4:\n",
    "#     plotDistPlot(data[col])"
   ]
  },
  {
   "cell_type": "markdown",
   "metadata": {},
   "source": [
    "## Countplot of the 'Approval' column"
   ]
  },
  {
   "cell_type": "code",
   "execution_count": 30,
   "metadata": {},
   "outputs": [
    {
     "data": {
      "text/plain": [
       "<matplotlib.axes._subplots.AxesSubplot at 0x12d1ec978>"
      ]
     },
     "execution_count": 30,
     "metadata": {},
     "output_type": "execute_result"
    },
    {
     "data": {
      "image/png": "[encoded data removed]",
      "text/plain": [
       "<Figure size 432x288 with 1 Axes>"
      ]
     },
     "metadata": {
      "needs_background": "light"
     },
     "output_type": "display_data"
    }
   ],
   "source": [
    "# 1 = Approved and 0 = Not Approved\n",
    "sns.countplot(data = data, x = 'Approval')"
   ]
  },
  {
   "cell_type": "markdown",
   "metadata": {},
   "source": [
    "# Train, Test, Split Before Modeling"
   ]
  },
  {
   "cell_type": "code",
   "execution_count": 31,
   "metadata": {},
   "outputs": [],
   "source": [
    "# The first iterations of these models will include all columns except 'DriversLicense' and 'ZipCode'\n",
    "# Later iterations of the models will have even fewer columns of data\n",
    "# For the initial models, I will not be scaling the data until later iterations (if applicable)\n",
    "data = data.drop(['DriversID', 'ZipCode'], axis = 1)"
   ]
  },
  {
   "cell_type": "code",
   "execution_count": 32,
   "metadata": {},
   "outputs": [
    {
     "data": {
      "text/html": [
       "<div>\n",
       "<style scoped>\n",
       "    .dataframe tbody tr th:only-of-type {\n",
       "        vertical-align: middle;\n",
       "    }\n",
       "\n",
       "    .dataframe tbody tr th {\n",
       "        vertical-align: top;\n",
       "    }\n",
       "\n",
       "    .dataframe thead th {\n",
       "        text-align: right;\n",
       "    }\n",
       "</style>\n",
       "<table border=\"1\" class=\"dataframe\">\n",
       "  <thead>\n",
       "    <tr style=\"text-align: right;\">\n",
       "      <th></th>\n",
       "      <th>Gender</th>\n",
       "      <th>Age</th>\n",
       "      <th>Debt</th>\n",
       "      <th>Married</th>\n",
       "      <th>BankClient</th>\n",
       "      <th>SchoolLevel</th>\n",
       "      <th>Ethnicity</th>\n",
       "      <th>YearsWorked</th>\n",
       "      <th>PriorDefault</th>\n",
       "      <th>Employed</th>\n",
       "      <th>CreditScore</th>\n",
       "      <th>Citizen</th>\n",
       "      <th>Income</th>\n",
       "      <th>Approval</th>\n",
       "    </tr>\n",
       "  </thead>\n",
       "  <tbody>\n",
       "    <tr>\n",
       "      <th>149</th>\n",
       "      <td>1</td>\n",
       "      <td>52</td>\n",
       "      <td>15.0</td>\n",
       "      <td>1</td>\n",
       "      <td>0</td>\n",
       "      <td>1</td>\n",
       "      <td>7</td>\n",
       "      <td>5.5</td>\n",
       "      <td>1</td>\n",
       "      <td>1</td>\n",
       "      <td>14</td>\n",
       "      <td>0</td>\n",
       "      <td>2200</td>\n",
       "      <td>1</td>\n",
       "    </tr>\n",
       "  </tbody>\n",
       "</table>\n",
       "</div>"
      ],
      "text/plain": [
       "     Gender  Age  Debt  Married  BankClient  SchoolLevel  Ethnicity  \\\n",
       "149       1   52  15.0        1           0            1          7   \n",
       "\n",
       "     YearsWorked  PriorDefault  Employed  CreditScore  Citizen  Income  \\\n",
       "149          5.5             1         1           14        0    2200   \n",
       "\n",
       "     Approval  \n",
       "149         1  "
      ]
     },
     "execution_count": 32,
     "metadata": {},
     "output_type": "execute_result"
    }
   ],
   "source": [
    "# 'james bond' male approved for credit card persona\n",
    "# somewhat high debt is offset with good credit score, high income, over 5 years of work experience\n",
    "# 149\n",
    "data[(data['Gender'] == 1) & (data['Approval'] == 1) & (data['Age'] == 52)].head()"
   ]
  },
  {
   "cell_type": "code",
   "execution_count": 33,
   "metadata": {},
   "outputs": [
    {
     "data": {
      "text/html": [
       "<div>\n",
       "<style scoped>\n",
       "    .dataframe tbody tr th:only-of-type {\n",
       "        vertical-align: middle;\n",
       "    }\n",
       "\n",
       "    .dataframe tbody tr th {\n",
       "        vertical-align: top;\n",
       "    }\n",
       "\n",
       "    .dataframe thead th {\n",
       "        text-align: right;\n",
       "    }\n",
       "</style>\n",
       "<table border=\"1\" class=\"dataframe\">\n",
       "  <thead>\n",
       "    <tr style=\"text-align: right;\">\n",
       "      <th></th>\n",
       "      <th>Gender</th>\n",
       "      <th>Age</th>\n",
       "      <th>Debt</th>\n",
       "      <th>Married</th>\n",
       "      <th>BankClient</th>\n",
       "      <th>SchoolLevel</th>\n",
       "      <th>Ethnicity</th>\n",
       "      <th>YearsWorked</th>\n",
       "      <th>PriorDefault</th>\n",
       "      <th>Employed</th>\n",
       "      <th>CreditScore</th>\n",
       "      <th>Citizen</th>\n",
       "      <th>Income</th>\n",
       "      <th>Approval</th>\n",
       "    </tr>\n",
       "  </thead>\n",
       "  <tbody>\n",
       "    <tr>\n",
       "      <th>300</th>\n",
       "      <td>1</td>\n",
       "      <td>57</td>\n",
       "      <td>2.000</td>\n",
       "      <td>1</td>\n",
       "      <td>0</td>\n",
       "      <td>5</td>\n",
       "      <td>2</td>\n",
       "      <td>6.5</td>\n",
       "      <td>0</td>\n",
       "      <td>1</td>\n",
       "      <td>1</td>\n",
       "      <td>0</td>\n",
       "      <td>10</td>\n",
       "      <td>0</td>\n",
       "    </tr>\n",
       "    <tr>\n",
       "      <th>527</th>\n",
       "      <td>1</td>\n",
       "      <td>57</td>\n",
       "      <td>0.335</td>\n",
       "      <td>1</td>\n",
       "      <td>0</td>\n",
       "      <td>6</td>\n",
       "      <td>0</td>\n",
       "      <td>1.0</td>\n",
       "      <td>1</td>\n",
       "      <td>0</td>\n",
       "      <td>0</td>\n",
       "      <td>0</td>\n",
       "      <td>2197</td>\n",
       "      <td>0</td>\n",
       "    </tr>\n",
       "  </tbody>\n",
       "</table>\n",
       "</div>"
      ],
      "text/plain": [
       "     Gender  Age   Debt  Married  BankClient  SchoolLevel  Ethnicity  \\\n",
       "300       1   57  2.000        1           0            5          2   \n",
       "527       1   57  0.335        1           0            6          0   \n",
       "\n",
       "     YearsWorked  PriorDefault  Employed  CreditScore  Citizen  Income  \\\n",
       "300          6.5             0         1            1        0      10   \n",
       "527          1.0             1         0            0        0    2197   \n",
       "\n",
       "     Approval  \n",
       "300         0  \n",
       "527         0  "
      ]
     },
     "execution_count": 33,
     "metadata": {},
     "output_type": "execute_result"
    }
   ],
   "source": [
    "# 'maverick top gun' male denied for credit card persona\n",
    "# despite 6.5 years of experience and low debt, low credit score and minimal income don't work out\n",
    "# 300\n",
    "data[(data['Gender'] == 1) & (data['Approval'] == 0) & (data['Age'] == 57)].head()"
   ]
  },
  {
   "cell_type": "code",
   "execution_count": 34,
   "metadata": {},
   "outputs": [
    {
     "data": {
      "text/html": [
       "<div>\n",
       "<style scoped>\n",
       "    .dataframe tbody tr th:only-of-type {\n",
       "        vertical-align: middle;\n",
       "    }\n",
       "\n",
       "    .dataframe tbody tr th {\n",
       "        vertical-align: top;\n",
       "    }\n",
       "\n",
       "    .dataframe thead th {\n",
       "        text-align: right;\n",
       "    }\n",
       "</style>\n",
       "<table border=\"1\" class=\"dataframe\">\n",
       "  <thead>\n",
       "    <tr style=\"text-align: right;\">\n",
       "      <th></th>\n",
       "      <th>Gender</th>\n",
       "      <th>Age</th>\n",
       "      <th>Debt</th>\n",
       "      <th>Married</th>\n",
       "      <th>BankClient</th>\n",
       "      <th>SchoolLevel</th>\n",
       "      <th>Ethnicity</th>\n",
       "      <th>YearsWorked</th>\n",
       "      <th>PriorDefault</th>\n",
       "      <th>Employed</th>\n",
       "      <th>CreditScore</th>\n",
       "      <th>Citizen</th>\n",
       "      <th>Income</th>\n",
       "      <th>Approval</th>\n",
       "    </tr>\n",
       "  </thead>\n",
       "  <tbody>\n",
       "    <tr>\n",
       "      <th>0</th>\n",
       "      <td>0</td>\n",
       "      <td>30</td>\n",
       "      <td>0.0</td>\n",
       "      <td>1</td>\n",
       "      <td>0</td>\n",
       "      <td>12</td>\n",
       "      <td>7</td>\n",
       "      <td>1.250</td>\n",
       "      <td>1</td>\n",
       "      <td>1</td>\n",
       "      <td>1</td>\n",
       "      <td>0</td>\n",
       "      <td>0</td>\n",
       "      <td>1</td>\n",
       "    </tr>\n",
       "    <tr>\n",
       "      <th>576</th>\n",
       "      <td>0</td>\n",
       "      <td>30</td>\n",
       "      <td>0.5</td>\n",
       "      <td>1</td>\n",
       "      <td>0</td>\n",
       "      <td>1</td>\n",
       "      <td>7</td>\n",
       "      <td>1.750</td>\n",
       "      <td>1</td>\n",
       "      <td>1</td>\n",
       "      <td>11</td>\n",
       "      <td>0</td>\n",
       "      <td>540</td>\n",
       "      <td>1</td>\n",
       "    </tr>\n",
       "    <tr>\n",
       "      <th>590</th>\n",
       "      <td>0</td>\n",
       "      <td>30</td>\n",
       "      <td>6.5</td>\n",
       "      <td>1</td>\n",
       "      <td>0</td>\n",
       "      <td>2</td>\n",
       "      <td>7</td>\n",
       "      <td>3.125</td>\n",
       "      <td>1</td>\n",
       "      <td>1</td>\n",
       "      <td>8</td>\n",
       "      <td>0</td>\n",
       "      <td>1200</td>\n",
       "      <td>1</td>\n",
       "    </tr>\n",
       "  </tbody>\n",
       "</table>\n",
       "</div>"
      ],
      "text/plain": [
       "     Gender  Age  Debt  Married  BankClient  SchoolLevel  Ethnicity  \\\n",
       "0         0   30   0.0        1           0           12          7   \n",
       "576       0   30   0.5        1           0            1          7   \n",
       "590       0   30   6.5        1           0            2          7   \n",
       "\n",
       "     YearsWorked  PriorDefault  Employed  CreditScore  Citizen  Income  \\\n",
       "0          1.250             1         1            1        0       0   \n",
       "576        1.750             1         1           11        0     540   \n",
       "590        3.125             1         1            8        0    1200   \n",
       "\n",
       "     Approval  \n",
       "0           1  \n",
       "576         1  \n",
       "590         1  "
      ]
     },
     "execution_count": 34,
     "metadata": {},
     "output_type": "execute_result"
    }
   ],
   "source": [
    "# 'hermoine granger' female approved for credit card persona\n",
    "# modest income plus solid credit score and minimal debt work well despite minimal years of work\n",
    "# 576\n",
    "data[(data['Gender'] == 0) & (data['Approval'] == 1) & (data['Age'] == 30)].head()"
   ]
  },
  {
   "cell_type": "code",
   "execution_count": 35,
   "metadata": {},
   "outputs": [
    {
     "data": {
      "text/html": [
       "<div>\n",
       "<style scoped>\n",
       "    .dataframe tbody tr th:only-of-type {\n",
       "        vertical-align: middle;\n",
       "    }\n",
       "\n",
       "    .dataframe tbody tr th {\n",
       "        vertical-align: top;\n",
       "    }\n",
       "\n",
       "    .dataframe thead th {\n",
       "        text-align: right;\n",
       "    }\n",
       "</style>\n",
       "<table border=\"1\" class=\"dataframe\">\n",
       "  <thead>\n",
       "    <tr style=\"text-align: right;\">\n",
       "      <th></th>\n",
       "      <th>Gender</th>\n",
       "      <th>Age</th>\n",
       "      <th>Debt</th>\n",
       "      <th>Married</th>\n",
       "      <th>BankClient</th>\n",
       "      <th>SchoolLevel</th>\n",
       "      <th>Ethnicity</th>\n",
       "      <th>YearsWorked</th>\n",
       "      <th>PriorDefault</th>\n",
       "      <th>Employed</th>\n",
       "      <th>CreditScore</th>\n",
       "      <th>Citizen</th>\n",
       "      <th>Income</th>\n",
       "      <th>Approval</th>\n",
       "    </tr>\n",
       "  </thead>\n",
       "  <tbody>\n",
       "    <tr>\n",
       "      <th>85</th>\n",
       "      <td>0</td>\n",
       "      <td>37</td>\n",
       "      <td>4.000</td>\n",
       "      <td>1</td>\n",
       "      <td>0</td>\n",
       "      <td>1</td>\n",
       "      <td>0</td>\n",
       "      <td>5.000</td>\n",
       "      <td>1</td>\n",
       "      <td>0</td>\n",
       "      <td>0</td>\n",
       "      <td>2</td>\n",
       "      <td>0</td>\n",
       "      <td>0</td>\n",
       "    </tr>\n",
       "    <tr>\n",
       "      <th>100</th>\n",
       "      <td>0</td>\n",
       "      <td>37</td>\n",
       "      <td>1.750</td>\n",
       "      <td>2</td>\n",
       "      <td>2</td>\n",
       "      <td>1</td>\n",
       "      <td>0</td>\n",
       "      <td>0.250</td>\n",
       "      <td>1</td>\n",
       "      <td>0</td>\n",
       "      <td>0</td>\n",
       "      <td>0</td>\n",
       "      <td>400</td>\n",
       "      <td>0</td>\n",
       "    </tr>\n",
       "    <tr>\n",
       "      <th>116</th>\n",
       "      <td>0</td>\n",
       "      <td>37</td>\n",
       "      <td>7.000</td>\n",
       "      <td>1</td>\n",
       "      <td>0</td>\n",
       "      <td>10</td>\n",
       "      <td>3</td>\n",
       "      <td>11.500</td>\n",
       "      <td>1</td>\n",
       "      <td>1</td>\n",
       "      <td>7</td>\n",
       "      <td>0</td>\n",
       "      <td>5</td>\n",
       "      <td>0</td>\n",
       "    </tr>\n",
       "    <tr>\n",
       "      <th>427</th>\n",
       "      <td>0</td>\n",
       "      <td>37</td>\n",
       "      <td>0.835</td>\n",
       "      <td>1</td>\n",
       "      <td>0</td>\n",
       "      <td>4</td>\n",
       "      <td>7</td>\n",
       "      <td>0.040</td>\n",
       "      <td>0</td>\n",
       "      <td>0</td>\n",
       "      <td>0</td>\n",
       "      <td>0</td>\n",
       "      <td>5</td>\n",
       "      <td>0</td>\n",
       "    </tr>\n",
       "    <tr>\n",
       "      <th>645</th>\n",
       "      <td>0</td>\n",
       "      <td>37</td>\n",
       "      <td>2.665</td>\n",
       "      <td>1</td>\n",
       "      <td>0</td>\n",
       "      <td>2</td>\n",
       "      <td>7</td>\n",
       "      <td>0.165</td>\n",
       "      <td>0</td>\n",
       "      <td>0</td>\n",
       "      <td>0</td>\n",
       "      <td>0</td>\n",
       "      <td>501</td>\n",
       "      <td>0</td>\n",
       "    </tr>\n",
       "  </tbody>\n",
       "</table>\n",
       "</div>"
      ],
      "text/plain": [
       "     Gender  Age   Debt  Married  BankClient  SchoolLevel  Ethnicity  \\\n",
       "85        0   37  4.000        1           0            1          0   \n",
       "100       0   37  1.750        2           2            1          0   \n",
       "116       0   37  7.000        1           0           10          3   \n",
       "427       0   37  0.835        1           0            4          7   \n",
       "645       0   37  2.665        1           0            2          7   \n",
       "\n",
       "     YearsWorked  PriorDefault  Employed  CreditScore  Citizen  Income  \\\n",
       "85         5.000             1         0            0        2       0   \n",
       "100        0.250             1         0            0        0     400   \n",
       "116       11.500             1         1            7        0       5   \n",
       "427        0.040             0         0            0        0       5   \n",
       "645        0.165             0         0            0        0     501   \n",
       "\n",
       "     Approval  \n",
       "85          0  \n",
       "100         0  \n",
       "116         0  \n",
       "427         0  \n",
       "645         0  "
      ]
     },
     "execution_count": 35,
     "metadata": {},
     "output_type": "execute_result"
    }
   ],
   "source": [
    "# 'catwoman' female denied for credit card persona\n",
    "# minimal work experience and credit score combined with a modest income and some debt don't work\n",
    "# 645\n",
    "data[(data['Gender'] == 0) & (data['Approval'] == 0) & (data['Age'] == 37)].head()"
   ]
  },
  {
   "cell_type": "code",
   "execution_count": 36,
   "metadata": {},
   "outputs": [],
   "source": [
    "X = data.drop(columns = 'Approval', axis = 1)\n",
    "y = data['Approval']\n",
    "X2 = X.copy()\n",
    "y2 = y.copy()"
   ]
  },
  {
   "cell_type": "code",
   "execution_count": 37,
   "metadata": {},
   "outputs": [],
   "source": [
    "# X_train, X_test, y_train, y_test = train_test_split(X, y, test_size = 0.3, random_state = 42)"
   ]
  },
  {
   "cell_type": "code",
   "execution_count": 38,
   "metadata": {},
   "outputs": [],
   "source": [
    "# ss = StandardScaler()\n",
    "# X_train_scale = ss.fit_transform(X_train)\n",
    "# X_test_scale = ss.transform(X_test)"
   ]
  },
  {
   "cell_type": "markdown",
   "metadata": {},
   "source": [
    "## Accuracy, confusion matrix, classification report function"
   ]
  },
  {
   "cell_type": "code",
   "execution_count": 39,
   "metadata": {},
   "outputs": [],
   "source": [
    "# def print_metrics(y_test, y_pred):\n",
    "#     print('Accuracy Score is:', accuracy_score(y_test, y_pred) * 100)\n",
    "#     print()\n",
    "#     print('Confusion matrix:')\n",
    "#     print(confusion_matrix(y_test, y_pred))\n",
    "#     print()\n",
    "#     print('Classification report:')\n",
    "#     print(classification_report(y_test, y_pred))"
   ]
  },
  {
   "cell_type": "markdown",
   "metadata": {},
   "source": [
    "# First Logistic Regression 'Classifier' model"
   ]
  },
  {
   "cell_type": "code",
   "execution_count": 40,
   "metadata": {},
   "outputs": [],
   "source": [
    "# log_reg = LogisticRegression(random_state = 42, solver = 'liblinear').fit(X_train, y_train)\n",
    "# y_pred = log_reg.predict(X_test)\n",
    "\n",
    "# print_metrics(y_test, y_pred)"
   ]
  },
  {
   "cell_type": "markdown",
   "metadata": {},
   "source": [
    "# First Random Forest Classifier model"
   ]
  },
  {
   "cell_type": "code",
   "execution_count": 41,
   "metadata": {},
   "outputs": [],
   "source": [
    "# rf = RandomForestClassifier(random_state = 42, n_estimators = 100).fit(X_train, y_train)\n",
    "# y_pred = rf.predict(X_test)\n",
    "\n",
    "# print_metrics(y_test, y_pred)"
   ]
  },
  {
   "cell_type": "markdown",
   "metadata": {},
   "source": [
    "## First XGBoost model"
   ]
  },
  {
   "cell_type": "code",
   "execution_count": 42,
   "metadata": {},
   "outputs": [],
   "source": [
    "# xgb = XGBClassifier(random_state = 42).fit(X_train, y_train)\n",
    "# y_pred = xgb.predict(X_test)\n",
    "\n",
    "# print_metrics(y_test, y_pred)"
   ]
  },
  {
   "cell_type": "markdown",
   "metadata": {},
   "source": [
    "## First Ada Boost Classifier model"
   ]
  },
  {
   "cell_type": "code",
   "execution_count": 43,
   "metadata": {},
   "outputs": [],
   "source": [
    "# ada = AdaBoostClassifier(random_state = 42).fit(X_train, y_train)\n",
    "# y_pred = ada.predict(X_test)\n",
    "\n",
    "# print_metrics(y_test, y_pred)"
   ]
  },
  {
   "cell_type": "markdown",
   "metadata": {},
   "source": [
    "## First Gradient Boost model"
   ]
  },
  {
   "cell_type": "code",
   "execution_count": 44,
   "metadata": {},
   "outputs": [],
   "source": [
    "# gbc = GradientBoostingClassifier(random_state = 42).fit(X_train, y_train)\n",
    "# y_pred = gbc.predict(X_test)\n",
    "\n",
    "# print_metrics(y_test, y_pred)"
   ]
  },
  {
   "cell_type": "markdown",
   "metadata": {},
   "source": [
    "## Feature Importances with Chi-Squared"
   ]
  },
  {
   "cell_type": "code",
   "execution_count": 45,
   "metadata": {},
   "outputs": [],
   "source": [
    "# # Apply SelectKBest class to extract all feature importances (k='all')\n",
    "# top_features = SelectKBest(score_func = chi2, k = 'all')\n",
    "# top_features.fit(X2, y2)\n",
    "# scores = pd.DataFrame(top_features.scores_)\n",
    "# columns = pd.DataFrame(X2.columns)\n",
    "\n",
    "# # Concat two df for better visualization \n",
    "# top_scores = pd.concat([columns, scores], axis = 1)\n",
    "# top_scores.columns = ['Feature Name', 'Score']\n",
    "# print(top_scores.nlargest(13, 'Score'))"
   ]
  },
  {
   "cell_type": "markdown",
   "metadata": {},
   "source": [
    "## Logistic Regression Feature Importance"
   ]
  },
  {
   "cell_type": "code",
   "execution_count": 46,
   "metadata": {},
   "outputs": [],
   "source": [
    "# importance = log_reg.coef_[0]\n",
    "# cols = data2.columns\n",
    "# indices = np.argsort(importance)\n",
    "\n",
    "# # Uncomment all lines below here to see outputs\n",
    "\n",
    "# for i, v in enumerate(importance):\n",
    "# \tprint('Feature: %s, Score: %.5f' % (cols[i], v))\n",
    "    \n",
    "# plt.title('Logistic Regression Feature Importances')\n",
    "# plt.barh(range(len(indices)), importance[indices], color = 'r', align = 'center')\n",
    "# plt.yticks(range(len(indices)), [cols[i] for i in indices])\n",
    "# plt.xlabel('Relative Importance')\n",
    "# plt.show()"
   ]
  },
  {
   "cell_type": "code",
   "execution_count": 47,
   "metadata": {},
   "outputs": [],
   "source": [
    "# importance = log_reg.coef_[0]\n",
    "# cols = data.columns\n",
    "# indices = np.argsort(importance)\n",
    "\n",
    "# # Uncomment all lines below here to see outputs\n",
    "\n",
    "# for i, v in enumerate(importance):\n",
    "# \tprint('Feature: %s, Score: %.5f' % (cols[i], v))\n",
    "    \n",
    "# plt.title('Logistic Regression Feature Importances')\n",
    "# plt.barh(range(len(indices)), importance[indices], color = 'r', align = 'center')\n",
    "# plt.yticks(range(len(indices)), [cols[i] for i in indices])\n",
    "# plt.xlabel('Relative Importance')\n",
    "# plt.show()"
   ]
  },
  {
   "cell_type": "markdown",
   "metadata": {},
   "source": [
    "## Function to visualize 4 different models' feature importances"
   ]
  },
  {
   "cell_type": "code",
   "execution_count": 48,
   "metadata": {},
   "outputs": [],
   "source": [
    "# def feature_imp_viz(model):\n",
    "#     features = data2.columns\n",
    "#     importances = model.feature_importances_\n",
    "#     indices = np.argsort(importances)\n",
    "    \n",
    "#     model_name = 'model_name'\n",
    "    \n",
    "#     if model == rf:\n",
    "#         model_name = 'Random Forest'\n",
    "#     elif model == xgb:\n",
    "#         model_name = 'XG Boost'\n",
    "#     elif model == ada:\n",
    "#         model_name = 'Ada Boost'\n",
    "#     else:\n",
    "#         model_name = 'Gradient Boost'\n",
    "    \n",
    "#     print('*' * 60)\n",
    "    \n",
    "#     for i, v in enumerate(importances):\n",
    "#         print('Feature: %s, Score: %.5f' % (features[i], v))\n",
    "    \n",
    "#     plt.title(model_name + ' Feature Importances')\n",
    "#     plt.barh(range(len(indices)), importances[indices], color = 'r', align = 'center')\n",
    "#     plt.yticks(range(len(indices)), [features[i] for i in indices])\n",
    "#     plt.xlabel('Relative Importance')\n",
    "#     plt.show()"
   ]
  },
  {
   "cell_type": "markdown",
   "metadata": {},
   "source": [
    "## Visualize 4 different models' feature importances"
   ]
  },
  {
   "cell_type": "code",
   "execution_count": 49,
   "metadata": {},
   "outputs": [],
   "source": [
    "# Uncomment 3 lines below to see 4 visuals\n",
    "\n",
    "# models = [rf, xgb, ada, gbc]\n",
    "# for model in models:\n",
    "#     feature_imp_viz(model)"
   ]
  },
  {
   "cell_type": "markdown",
   "metadata": {},
   "source": [
    "## Round 2 of model testing (scaled data, default settings)"
   ]
  },
  {
   "cell_type": "code",
   "execution_count": 50,
   "metadata": {},
   "outputs": [],
   "source": [
    "# classifiers = [LogisticRegression(random_state = 42, solver = 'liblinear'),\n",
    "#                RandomForestClassifier(random_state = 42, n_estimators = 100),\n",
    "#                XGBClassifier(random_state = 42),\n",
    "#                AdaBoostClassifier(random_state = 42),\n",
    "#                GradientBoostingClassifier(random_state = 42)]\n",
    "\n",
    "# for clfs in classifiers:\n",
    "#     clfs.fit(X_train_scale, y_train)\n",
    "#     name = clfs.__class__.__name__\n",
    "#     scale_predict = clfs.predict(X_test_scale)\n",
    "#     print(\"=\" * 60)\n",
    "#     print(name)\n",
    "#     print()\n",
    "#     print('Accuracy Score (scaled):', accuracy_score(y_test, scale_predict) * 100)\n",
    "#     print()\n",
    "#     print('Confusion matrix (scaled):')\n",
    "#     print(confusion_matrix(y_test, scale_predict))\n",
    "#     print()\n",
    "#     print('Classification report (scaled):')\n",
    "#     print(classification_report(y_test, scale_predict))"
   ]
  },
  {
   "cell_type": "markdown",
   "metadata": {},
   "source": [
    "## Round 3 of testing (GridSearch 2 models with 10 fold cross validation and non-scaled data)\n",
    "\n",
    "## 10 Fold Cross Validation (ideal settings)"
   ]
  },
  {
   "cell_type": "code",
   "execution_count": 51,
   "metadata": {},
   "outputs": [],
   "source": [
    "# classifier = [LogisticRegression(n_jobs = -1), RandomForestClassifier(n_jobs = -1)]\n",
    "\n",
    "# log_reg_grid = {\n",
    "#     'random_state' : [42],\n",
    "#     'solver' : ['newton-cg', 'lbfgs', 'liblinear', 'sag', 'saga'],\n",
    "#     'max_iter' : [50, 75, 100, 125, 150],\n",
    "#     'multi_class' : ['auto']\n",
    "# }\n",
    "\n",
    "# rfc_grid = {\n",
    "#     'n_estimators' : [50, 75, 100, 125, 150],\n",
    "#     'criterion' : ['gini', 'entropy'],\n",
    "#     'max_depth' : [None, 25, 50, 75, 100],\n",
    "#     'min_samples_split' : [2, 4, 6, 8, 10],\n",
    "#     'random_state' : [42]\n",
    "# }\n",
    "\n",
    "# param_grid_list = [log_reg_grid, rfc_grid]\n",
    "\n",
    "# i = 0\n",
    "# for clf in classifier:\n",
    "\n",
    "#     gscv = GridSearchCV(estimator = clf, param_grid = param_grid_list[i], cv = 10)\n",
    "#     gscv.fit(X_train, y_train)\n",
    "#     i += 1\n",
    "\n",
    "#     print('Model name:', clf.__class__.__name__)\n",
    "# #     Uncomment 2 lines below to see optimal settings for each model\n",
    "# #     print()\n",
    "# #     print('Best params:', gscv.best_params_)\n",
    "#     print()\n",
    "#     y_pred = gscv.predict(X_test)\n",
    "#     print('10 Fold Cross Validation Accuracy Score:', gscv.score(X_test, y_test) * 100)\n",
    "#     print()\n",
    "#     print('Confusion matrix:')\n",
    "#     print(confusion_matrix(y_test, y_pred))\n",
    "#     print()\n",
    "#     print('Classification report:')\n",
    "#     print(classification_report(y_test, y_pred))\n",
    "#     print('=' * 120)"
   ]
  },
  {
   "cell_type": "code",
   "execution_count": 52,
   "metadata": {},
   "outputs": [],
   "source": [
    "# rfc = RandomForestClassifier(n_estimators = 50, criterion = 'gini',\n",
    "#                             max_depth = None, min_samples_split = 6,\n",
    "#                             random_state = 42, n_jobs = -1)"
   ]
  },
  {
   "cell_type": "code",
   "execution_count": 53,
   "metadata": {},
   "outputs": [],
   "source": [
    "# rfc.fit(X_train, y_train)"
   ]
  },
  {
   "cell_type": "code",
   "execution_count": 54,
   "metadata": {},
   "outputs": [],
   "source": [
    "# Uncomment to save pickle file\n",
    "# pickle.dump(rfc, open('rfc.pickle', 'wb'))"
   ]
  },
  {
   "cell_type": "code",
   "execution_count": 55,
   "metadata": {},
   "outputs": [],
   "source": [
    "# Visualizing a decision tree\n",
    "# fn = X.columns\n",
    "# cn = y.name\n",
    "# fig, axes = plt.subplots(nrows = 1,ncols = 1,figsize = (4,4), dpi=800)\n",
    "# tree.plot_tree(rfc.estimators_[0], feature_names = fn, \n",
    "#                class_names = cn, filled = True);\n",
    "# Uncomment to save the image shown\n",
    "# fig.savefig('RF_SingleTree.png')"
   ]
  }
 ],
 "metadata": {
  "kernelspec": {
   "display_name": "Python [conda env:learn-env] *",
   "language": "python",
   "name": "conda-env-learn-env-py"
  },
  "language_info": {
   "codemirror_mode": {
    "name": "ipython",
    "version": 3
   },
   "file_extension": ".py",
   "mimetype": "text/x-python",
   "name": "python",
   "nbconvert_exporter": "python",
   "pygments_lexer": "ipython3",
   "version": "3.6.9"
  }
 },
 "nbformat": 4,
 "nbformat_minor": 4
}
